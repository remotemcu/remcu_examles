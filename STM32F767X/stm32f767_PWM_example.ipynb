{
 "cells": [
  {
   "cell_type": "markdown",
   "metadata": {},
   "source": [
    "# C++ Cling Examples for STM32F767X board\n",
    "\n",
    "![Image](img/board.jpg)"
   ]
  },
  {
   "cell_type": "markdown",
   "metadata": {},
   "source": [
    "Load [REMCU](https://remotemcu.github.io) shared libray"
   ]
  },
  {
   "cell_type": "code",
   "execution_count": null,
   "metadata": {},
   "outputs": [],
   "source": [
    ".L libremcu"
   ]
  },
  {
   "cell_type": "markdown",
   "metadata": {},
   "source": [
    "Add path with header files"
   ]
  },
  {
   "cell_type": "code",
   "execution_count": null,
   "metadata": {},
   "outputs": [],
   "source": [
    ".I remcu_include/"
   ]
  },
  {
   "cell_type": "markdown",
   "metadata": {},
   "source": [
    "Including necessary header files. The [“remcu.h”](remcu_include/remcu.h) header must be always included before any MCU header files."
   ]
  },
  {
   "cell_type": "code",
   "execution_count": null,
   "metadata": {},
   "outputs": [],
   "source": [
    "#include \"remcu.h\""
   ]
  },
  {
   "cell_type": "markdown",
   "metadata": {},
   "source": [
    "Connection to a debug server. The [**REMCU**](https://remotemcu.github.io/) library is able to work with [OpenOCD](https://github.com/ilg-archived/openocd/releases/tag/v0.10.0-12-20190422) or [GDB server](https://atollic.com/resources/download/).\n",
    "There is using the [remcu_connect2OpenOCD](https://remotemcu.github.io/api-v1-0#remcu_getVersion) function for connecting to the OpenOcd server. The functions have the same set of parameters. The first parameter is an IP address of the debug server. The second one is a port of the debug server. For instance, OpenOCD server print the port in log messages. The third parameter is a connection timeout. Upon a successful connection, the function returns the “true” value, otherwise, it returns “false”.\n",
    "\n",
    "> Detailed description of other REMCU function you see in [“remcu.h”](remcu_include/remcu.h) or [API reference](https://remotemcu.github.io/api-v1-0)\n",
    "\n",
    "Before that, plug stm32 board with debugger to PC\n",
    "\n",
    "run openocd utility in command line:\n",
    "```\n",
    "openocd -f board/stm32f7discovery.cfg\n",
    "```\n",
    "Result:\n",
    "![Image](img/openocd_unix.png)"
   ]
  },
  {
   "cell_type": "code",
   "execution_count": null,
   "metadata": {},
   "outputs": [],
   "source": [
    "const char * debug_server_ip = \"localhost\";\n",
    "const uint16_t default_openocd_port = 6666;\n",
    "const int timeout_sec = 3; // It can not be negative"
   ]
  },
  {
   "cell_type": "code",
   "execution_count": null,
   "metadata": {},
   "outputs": [],
   "source": [
    "remcu_connect2OpenOCD(debug_server_ip, default_openocd_port, timeout_sec)"
   ]
  },
  {
   "cell_type": "markdown",
   "metadata": {},
   "source": [
    "If you use GDB server (either OpenOCD or ST-Link GDB server or Jlink GDB server  etc.), you uncomment code below and run it:\n",
    "<details>\n",
    "  <summary> Jlink windows. Where the port is written <b> (click here)</b></summary>\n",
    " \n",
    "<img src=\"https://raw.githubusercontent.com/remotemcu/remcu_examples/master/wiki/img/jlink.png\" >\n",
    "<img src=\"https://raw.githubusercontent.com/remotemcu/remcu_examples/master/wiki/img/jlink2.png\" >\n",
    "</details>  \n",
    "<details>\n",
    "  <summary> ST link GDB windows. Where the port is written<b> (click here)</b></summary>\n",
    "\n",
    "<img src=\"https://raw.githubusercontent.com/remotemcu/remcu_examples/master/wiki/img/run-stling-gdb.png\">\n",
    "</details>"
   ]
  },
  {
   "cell_type": "code",
   "execution_count": null,
   "metadata": {},
   "outputs": [],
   "source": [
    "//const uint16_t default_openocd_gdb_port = 3333;\n",
    "//const uint16_t default_jlink_port = 2331;\n",
    "//const uint16_t default_stlink_port = 61234;\n",
    "//const uint16_t custom_port = ...;\n",
    "//remcu_connect2GDB(debug_server_ip, default_openocd_gdb_port /*default_jlink_port*/ /*default_stlink_port*/, timeout_sec)"
   ]
  },
  {
   "cell_type": "markdown",
   "metadata": {},
   "source": [
    "If connection were failed and the function returned false. See [Issue](https://github.com/remotemcu/remcu_examples/issues) and [Troubleshooting Page](https://remotemcu.github.io/troubleshooting-page) \n",
    "    \n",
    "If connection were success... Jupyter Output:\n",
    "![Image](img/success_connection_for_unix.png)"
   ]
  },
  {
   "cell_type": "markdown",
   "metadata": {},
   "source": [
    "Reset the MCU (see [“remcu.h”](remcu_include/remcu.h) or [API reference](https://remotemcu.github.io/api-v1-0)):"
   ]
  },
  {
   "cell_type": "code",
   "execution_count": null,
   "metadata": {},
   "outputs": [],
   "source": [
    "remcu_resetRemoteUnit(__HALT)"
   ]
  },
  {
   "cell_type": "markdown",
   "metadata": {},
   "source": [
    "HAL Low Level header files:"
   ]
  },
  {
   "cell_type": "code",
   "execution_count": null,
   "metadata": {},
   "outputs": [],
   "source": [
    "#include \"stm32f7xx_ll_adc.h\"\n",
    "#include \"stm32f7xx_ll_dma.h\"\n",
    "#include \"stm32f7xx_ll_tim.h\"\n",
    "#include \"stm32f7xx_ll_dac.h\"\n",
    "#include \"stm32f7xx_ll_gpio.h\"\n",
    "#include \"stm32f7xx_ll_bus.h\"\n",
    "#include \"stm32f7xx_ll_rcc.h\""
   ]
  },
  {
   "cell_type": "markdown",
   "metadata": {},
   "source": [
    "At this stage the microcontroller clock setting is already configured, this is done through SystemInit() function which is called from startup file (system_stm32f7xx.s) before to branch to application main. To see the default setting of SystemInit() function, refer to remcu_include/system_stm32f7xx.c file"
   ]
  },
  {
   "cell_type": "code",
   "execution_count": null,
   "metadata": {},
   "outputs": [],
   "source": [
    "SystemInit()"
   ]
  },
  {
   "cell_type": "markdown",
   "metadata": {},
   "source": [
    "Simple Clock configuration:"
   ]
  },
  {
   "cell_type": "code",
   "execution_count": null,
   "metadata": {},
   "outputs": [],
   "source": [
    " /* Enable HSI and wait for HSI ready*/\n",
    "  LL_RCC_HSI_Enable();\n",
    "\n",
    "  while(LL_RCC_HSI_IsReady() != 1)"
   ]
  },
  {
   "cell_type": "code",
   "execution_count": null,
   "metadata": {},
   "outputs": [],
   "source": [
    "/* Select HSI as system clock */\n",
    "/* Wait for HSI switched */\n",
    "  LL_RCC_SetSysClkSource(LL_RCC_SYS_CLKSOURCE_HSI);"
   ]
  },
  {
   "cell_type": "markdown",
   "metadata": {},
   "source": [
    "### PWM example\n",
    "![Image](img/pwm_wave.png)\n",
    "This example shows how to configure the TIM peripheral in PWM (Pulse Width Modulation) mode.\n",
    "\n",
    ">The code below have been based on **TIM_PWMOutput** ([main.c](https://github.com/STMicroelectronics/STM32CubeF7/blob/master/Projects/STM32F767ZI-Nucleo/Examples_LL/TIM/TIM_PWMOutput/Src/main.c)) example of [HAL LL Library for STM32F767ZI-Nucleo](https://github.com/STMicroelectronics/STM32CubeF7/tree/master/Projects/STM32F767ZI-Nucleo/Examples_LL/TIM/TIM_PWMOutput)\n",
    "\n",
    "Use of a timer peripheral to generate a \n",
    "PWM output signal and update the PWM duty cycle. This example is based on the \n",
    "STM32F7xx TIM LL API. The peripheral initialization uses \n",
    "LL initialization function to demonstrate LL init.\n",
    "\n",
    "In this example TIM3 input clock (TIM3CLK) frequency is set to APB1 clock (PCLK1),\n",
    "since APB1 pre-scaler is equal to 2 and it is twice PCLK1.\n",
    "    TIM3CLK = 2*PCLK1\n",
    "    PCLK1 = HCLK/2\n",
    "    => TIM3CLK = (2/2)*HCLK = SystemCoreClock (216 Mhz)\n",
    "\n",
    "To set the TIM3 counter clock frequency to 10 KHz, the pre-scaler (PSC) is\n",
    "calculated as follows:\n",
    "PSC = (TIM3CLK / TIM3 counter clock) - 1\n",
    "PSC = (SystemCoreClock /10 KHz) - 1\n",
    "\n",
    "SystemCoreClock is set to 216 MHz for STM32F7xx Devices.\n",
    "\n",
    "Auto-reload (ARR) is calculated to get a time base period of 10 ms,\n",
    "meaning a time base frequency of 100 Hz.\n",
    "ARR = (TIM3 counter clock / time base frequency) - 1\n",
    "ARR = (TIM3 counter clock / 100) - 1\n",
    "\n",
    "Initially, the capture/compare register (CCR3) of the output channel is set to\n",
    "half the auto-reload value meaning a initial duty cycle of 50%.\n",
    "Generally speaking this duty cycle is calculated as follows:\n",
    "Duty cycle = (CCR3 / ARR) * 100\n",
    "\n",
    "The timer output channel is mapped on the pin PB.0 (connected to LED1 on board\n",
    "NUCLEO-F767ZI). Thus LED1 status (on/off) mirrors the timer output\n",
    "level (active v.s. inactive).\n",
    "\n",
    "User push-button can be used to change the duty cycle from 0% up to 100% by\n",
    "steps of 10%. Duty cycle is periodically measured. It can be observed through\n",
    "the debugger by watching the variable uwMeasuredDutyCycle.\n",
    "\n",
    "@Note It is recommended to enable the cache and maintain its coherence, but depending on the use case\n",
    "      It is also possible to configure the MPU as \"Write through\", to guarantee the write access coherence.\n",
    "      In that case, the MPU must be configured as Cacheable/Bufferable/Not Shareable.\n",
    "      Even though the user must manage the cache coherence for read accesses.\n",
    "      Please refer to the AN4838 “Managing memory protection unit (MPU) in STM32 MCUs”\n",
    "      Please refer to the AN4839 “Level 1 cache on STM32F7 Series”\n",
    "\n",
    "@par Hardware and Software environment\n",
    "\n",
    "  - This example runs on STM32F767xx devices.\n",
    "    \n",
    "  - This example has been tested with NUCLEO-F767ZI board and can be\n",
    "    easily tailored to any other supported device and development board.\n"
   ]
  },
  {
   "cell_type": "code",
   "execution_count": null,
   "metadata": {},
   "outputs": [],
   "source": [
    "  LL_TIM_InitTypeDef    tim_initstruct;\n",
    "  LL_TIM_OC_InitTypeDef tim_oc_initstruct;\n",
    "  \n",
    "  /*************************/\n",
    "  /* GPIO AF configuration */\n",
    "  /*************************/\n",
    "  /* Enable the peripheral clock of GPIOs */\n",
    "  LL_AHB1_GRP1_EnableClock(LL_AHB1_GRP1_PERIPH_GPIOB);\n",
    "  \n",
    "  /* GPIO TIM3_CH3 configuration */\n",
    "  LL_GPIO_SetPinMode(GPIOB, LL_GPIO_PIN_0, LL_GPIO_MODE_ALTERNATE);\n",
    "  LL_GPIO_SetPinPull(GPIOB, LL_GPIO_PIN_0, LL_GPIO_PULL_DOWN);\n",
    "  LL_GPIO_SetPinSpeed(GPIOB, LL_GPIO_PIN_0, LL_GPIO_SPEED_FREQ_HIGH);\n",
    "  LL_GPIO_SetAFPin_0_7(GPIOB, LL_GPIO_PIN_0, LL_GPIO_AF_2);\n",
    "\n",
    "  /******************************/\n",
    "  /* Peripheral clocks enabling */\n",
    "  /******************************/\n",
    "  /* Enable the timer peripheral clock */\n",
    "  LL_APB1_GRP1_EnableClock(LL_APB1_GRP1_PERIPH_TIM3); \n",
    "\n",
    "/***************************/\n",
    "  /* Time base configuration */\n",
    "  /***************************/\n",
    "  /* Set fields of initialization structure */\n",
    "  /* - Set the pre-scaler value to have TIM3 counter clock equal to 10 kHz  */\n",
    "  /* - Set the auto-reload value to have a counter frequency of 100 Hz        */\n",
    "  /* TIM3CLK = SystemCoreClock / (APB prescaler & multiplier)               */\n",
    "  static uint32_t TimOutClock = SystemCoreClock/2;\n",
    "  \n",
    "  tim_initstruct.Prescaler         = __LL_TIM_CALC_PSC(SystemCoreClock, 10000);\n",
    "  tim_initstruct.CounterMode       = LL_TIM_COUNTERMODE_UP;\n",
    "  tim_initstruct.Autoreload        = __LL_TIM_CALC_ARR(TimOutClock, tim_initstruct.Prescaler, 100);\n",
    "  tim_initstruct.ClockDivision     = LL_TIM_CLOCKDIVISION_DIV1;\n",
    "  tim_initstruct.RepetitionCounter = (uint8_t)0x00;\n",
    "  \n",
    "  /* Initialize TIM instance according to parameters defined in               */\n",
    "  /* initialization structure.                                                */\n",
    "  LL_TIM_Init(TIM3, &tim_initstruct);\n",
    "  \n",
    "  /* Enable TIM3_ARR register preload. Writing to or reading from the         */\n",
    "  /* auto-reload register accesses the preload register. The content of the   */\n",
    "  /* preload register are transferred into the shadow register at each update */\n",
    "  /* event (UEV).                                                             */  \n",
    "  LL_TIM_EnableARRPreload(TIM3);\n",
    "\n",
    "/*********************************/\n",
    "  /* Output waveform configuration */\n",
    "  /*********************************/\n",
    "  /* Set fields of initialization structure */\n",
    "  /*  - Set compare value to half of the counter period (50% duty cycle ) */\n",
    "  tim_oc_initstruct.OCMode       = LL_TIM_OCMODE_PWM1;\n",
    "  tim_oc_initstruct.OCState      = LL_TIM_OCSTATE_DISABLE;\n",
    "  tim_oc_initstruct.OCNState     = LL_TIM_OCSTATE_DISABLE;\n",
    "  tim_oc_initstruct.CompareValue = ( (LL_TIM_GetAutoReload(TIM3) + 1 ) / 2);\n",
    "  tim_oc_initstruct.OCPolarity   = LL_TIM_OCPOLARITY_HIGH;\n",
    "  tim_oc_initstruct.OCNPolarity  = LL_TIM_OCPOLARITY_HIGH;\n",
    "  tim_oc_initstruct.OCIdleState  = LL_TIM_OCIDLESTATE_LOW;\n",
    "  tim_oc_initstruct.OCNIdleState = LL_TIM_OCIDLESTATE_LOW;\n",
    "  \n",
    "  /* Initialize TIM instance according to parameters defined in               */\n",
    "  /* initialization structure.                                                */\n",
    "  LL_TIM_OC_Init(TIM3, LL_TIM_CHANNEL_CH3, &tim_oc_initstruct);\n",
    "  \n",
    "  /* Enable TIM3_CCR3 register preload. Read/Write operations access the      */\n",
    "  /* preload register. TIM3_CCR3 preload value is loaded in the active        */\n",
    "  /* at each update event.                                                    */\n",
    "  LL_TIM_OC_EnablePreload(TIM3, LL_TIM_CHANNEL_CH3);\n",
    "  \n",
    "  /**************************/\n",
    "  /* TIM3 interrupts set-up */\n",
    "  /**************************/\n",
    "  /* Enable the capture/compare interrupt for channel 1*/\n",
    "  LL_TIM_EnableIT_CC3(TIM3);\n",
    "  \n",
    "  /**********************************/\n",
    "  /* Start output signal generation */\n",
    "  /**********************************/\n",
    "  /* Enable output channel 3 */\n",
    "  LL_TIM_CC_EnableChannel(TIM3, LL_TIM_CHANNEL_CH3);\n",
    "  \n",
    "  /* Enable counter */\n",
    "  LL_TIM_EnableCounter(TIM3);\n",
    "  \n",
    "  /* Force update generation */\n",
    "  LL_TIM_GenerateEvent_UPDATE(TIM3);\n",
    "\n",
    "  const uint32_t Period = LL_TIM_GetAutoReload(TIM3) + 1;"
   ]
  },
  {
   "cell_type": "code",
   "execution_count": null,
   "metadata": {},
   "outputs": [],
   "source": [
    "#include \"xwidgets/xslider.hpp\"\n",
    "xw::slider<int> sliderBrightness_Red;\n",
    "\n",
    "sliderBrightness_Red.min = 0;\n",
    "sliderBrightness_Red.max = Period;"
   ]
  },
  {
   "cell_type": "code",
   "execution_count": null,
   "metadata": {},
   "outputs": [],
   "source": [
    "sliderBrightness_Red.display();\n",
    "\n",
    "XOBSERVE(sliderBrightness_Red, value, [](const auto& Brightness) {\n",
    "    LL_TIM_OC_SetCompareCH3(TIM3,sliderBrightness_Red.max - Brightness.value);\n",
    "});"
   ]
  }
 ],
 "metadata": {
  "kernelspec": {
   "display_name": "C++14",
   "language": "C++14",
   "name": "xcpp14"
  },
  "language_info": {
   "codemirror_mode": "text/x-c++src",
   "file_extension": ".cpp",
   "mimetype": "text/x-c++src",
   "name": "c++",
   "version": "-std=c++14"
  }
 },
 "nbformat": 4,
 "nbformat_minor": 2
}
