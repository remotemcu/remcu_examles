{
 "cells": [
  {
   "cell_type": "markdown",
   "metadata": {},
   "source": [
    "# C++ Cling Examples for STM32F767X board\n",
    "\n",
    "![Image](img/board.jpg)"
   ]
  },
  {
   "cell_type": "markdown",
   "metadata": {},
   "source": [
    "Load [REMCU](https://remotemcu.github.io) shared libray"
   ]
  },
  {
   "cell_type": "code",
   "execution_count": 1,
   "metadata": {},
   "outputs": [],
   "source": [
    ".L libremcu"
   ]
  },
  {
   "cell_type": "markdown",
   "metadata": {},
   "source": [
    "Add path with header files"
   ]
  },
  {
   "cell_type": "code",
   "execution_count": 2,
   "metadata": {},
   "outputs": [],
   "source": [
    ".I remcu_include/"
   ]
  },
  {
   "cell_type": "markdown",
   "metadata": {},
   "source": [
    "Including necessary header files. The [“remcu.h”](remcu_include/remcu.h) header must be always included before any MCU header files."
   ]
  },
  {
   "cell_type": "code",
   "execution_count": 3,
   "metadata": {},
   "outputs": [],
   "source": [
    "#include \"remcu.h\""
   ]
  },
  {
   "cell_type": "markdown",
   "metadata": {},
   "source": [
    "Connection to a debug server. The [**REMCU**](https://remotemcu.github.io/) library is able to work with [OpenOCD](https://github.com/ilg-archived/openocd/releases/tag/v0.10.0-12-20190422) or [GDB server](https://atollic.com/resources/download/).\n",
    "There is using the [remcu_connect2OpenOCD](https://remotemcu.github.io/api-v1-0#remcu_getVersion) function for connecting to the OpenOcd server. The functions have the same set of parameters. The first parameter is an IP address of the debug server. The second one is a port of the debug server. For instance, OpenOCD server print the port in log messages. The third parameter is a connection timeout. Upon a successful connection, the function returns the “true” value, otherwise, it returns “false”.\n",
    "\n",
    "> Detailed description of other REMCU function you see in [“remcu.h”](remcu_include/remcu.h) or [API reference](https://remotemcu.github.io/api-v1-0)\n",
    "\n",
    "Before that, plug stm32 board with debugger to PC\n",
    "\n",
    "run openocd utility in command line:\n",
    "```\n",
    "openocd -f board/stm32f7discovery.cfg\n",
    "```\n",
    "Result:\n",
    "![Image](img/openocd_unix.png)"
   ]
  },
  {
   "cell_type": "code",
   "execution_count": 4,
   "metadata": {},
   "outputs": [],
   "source": [
    "const char * debug_server_ip = \"localhost\";\n",
    "const uint16_t default_openocd_port = 6666;\n",
    "const int timeout_sec = 3; // It can not be negative"
   ]
  },
  {
   "cell_type": "code",
   "execution_count": 5,
   "metadata": {},
   "outputs": [
    {
     "name": "stdout",
     "output_type": "stream",
     "text": [
      "*******************************************************************\n",
      "It is a Community license.\n",
      "\n",
      "REMCU lib can freely be used for non-profit educational purposes without any \n",
      "limitation. Simply download and install it and start development of your new \n",
      "projects. No registration or activation process is required.\n",
      "\n",
      "If you are an individual working on your own devices to sell or for any other \n",
      "purpose, you may use the software to develop and test it without any limitation.\n",
      "\n",
      "Commercial and Extended licenses can be gotten through the license request dialog.\n",
      "email: en.chormonov@gmail.com\n",
      "\n",
      "THIS SOFTWARE IS PROVIDED BY THE COPYRIGHT HOLDERS AND CONTRIBUTORS\n",
      "\"AS IS\" AND ANY EXPRESS OR IMPLIED WARRANTIES, INCLUDING, BUT NOT\n",
      "LIMITED TO, THE IMPLIED WARRANTIES OF MERCHANTABILITY AND FITNESS FOR\n",
      "A PARTICULAR PURPOSE ARE DISCLAIMED. IN NO EVENT SHALL THE COPYRIGHT\n",
      "HOLDER OR CONTRIBUTORS BE LIABLE FOR ANY DIRECT, INDIRECT, INCIDENTAL,\n",
      "SPECIAL, EXEMPLARY, OR CONSEQUENTIAL DAMAGES (INCLUDING, BUT NOT LIMITED\n",
      "TO, PROCUREMENT OF SUBSTITUTE GOODS OR SERVICES; LOSS OF USE, DATA, OR\n",
      "PROFITS; OR BUSINESS INTERRUPTION) HOWEVER CAUSED AND ON ANY THEORY OF\n",
      "LIABILITY, WHETHER IN CONTRACT, STRICT LIABILITY, OR TORT (INCLUDING\n",
      "NEGLIGENCE OR OTHERWISE) ARISING IN ANY WAY OUT OF THE USE OF THIS SOFTWARE,\n",
      "EVEN IF ADVISED OF THE POSSIBILITY OF SUCH DAMAGE.\n",
      "*******************************************************************\n"
     ]
    },
    {
     "data": {
      "text/plain": [
       "true"
      ]
     },
     "execution_count": 5,
     "metadata": {},
     "output_type": "execute_result"
    }
   ],
   "source": [
    "remcu_connect2OpenOCD(debug_server_ip, default_openocd_port, timeout_sec)"
   ]
  },
  {
   "cell_type": "markdown",
   "metadata": {},
   "source": [
    "If you use GDB server (either OpenOCD or ST-Link GDB server or Jlink GDB server  etc.), you uncomment code below and run it:\n",
    "<details>\n",
    "  <summary> Jlink windows. Where the port is written <b> (click here)</b></summary>\n",
    " \n",
    "<img src=\"https://raw.githubusercontent.com/remotemcu/remcu_examples/master/wiki/img/jlink.png\" >\n",
    "<img src=\"https://raw.githubusercontent.com/remotemcu/remcu_examples/master/wiki/img/jlink2.png\" >\n",
    "</details>  \n",
    "<details>\n",
    "  <summary> ST link GDB windows. Where the port is written<b> (click here)</b></summary>\n",
    "\n",
    "<img src=\"https://raw.githubusercontent.com/remotemcu/remcu_examples/master/wiki/img/run-stling-gdb.png\">\n",
    "</details>"
   ]
  },
  {
   "cell_type": "code",
   "execution_count": 6,
   "metadata": {},
   "outputs": [],
   "source": [
    "//const uint16_t default_openocd_gdb_port = 3333;\n",
    "//const uint16_t default_jlink_port = 2331;\n",
    "//const uint16_t default_stlink_port = 61234;\n",
    "//const uint16_t custom_port = ...;\n",
    "//remcu_connect2GDB(debug_server_ip, default_openocd_gdb_port /*default_jlink_port*/ /*default_stlink_port*/, timeout_sec)"
   ]
  },
  {
   "cell_type": "markdown",
   "metadata": {},
   "source": [
    "If connection were failed and the function returned false. See [Issue](https://github.com/remotemcu/remcu_examples/issues) and [Troubleshooting Page](https://remotemcu.github.io/troubleshooting-page) \n",
    "    \n",
    "If connection were success... Jupyter Output:\n",
    "![Image](img/success_connection_for_unix.png)"
   ]
  },
  {
   "cell_type": "markdown",
   "metadata": {},
   "source": [
    "Reset the MCU (see [“remcu.h”](remcu_include/remcu.h) or [API reference](https://remotemcu.github.io/api-v1-0)):"
   ]
  },
  {
   "cell_type": "code",
   "execution_count": 7,
   "metadata": {},
   "outputs": [
    {
     "data": {
      "text/plain": [
       "true"
      ]
     },
     "execution_count": 7,
     "metadata": {},
     "output_type": "execute_result"
    }
   ],
   "source": [
    "remcu_resetRemoteUnit(__HALT)"
   ]
  },
  {
   "cell_type": "markdown",
   "metadata": {},
   "source": [
    "HAL Low Level header files:"
   ]
  },
  {
   "cell_type": "code",
   "execution_count": 8,
   "metadata": {},
   "outputs": [],
   "source": [
    "#include \"stm32f7xx_ll_adc.h\"\n",
    "#include \"stm32f7xx_ll_dma.h\"\n",
    "#include \"stm32f7xx_ll_tim.h\"\n",
    "#include \"stm32f7xx_ll_dac.h\"\n",
    "#include \"stm32f7xx_ll_gpio.h\"\n",
    "#include \"stm32f7xx_ll_bus.h\"\n",
    "#include \"stm32f7xx_ll_rcc.h\"\n",
    "#include <iostream>"
   ]
  },
  {
   "cell_type": "markdown",
   "metadata": {},
   "source": [
    "At this stage the microcontroller clock setting is already configured, this is done through SystemInit() function which is called from startup file (system_stm32f7xx.s) before to branch to application main. To see the default setting of SystemInit() function, refer to remcu_include/system_stm32f7xx.c file"
   ]
  },
  {
   "cell_type": "code",
   "execution_count": 9,
   "metadata": {},
   "outputs": [],
   "source": [
    "SystemInit()"
   ]
  },
  {
   "cell_type": "markdown",
   "metadata": {},
   "source": [
    "Simple Clock configuration:"
   ]
  },
  {
   "cell_type": "code",
   "execution_count": 10,
   "metadata": {},
   "outputs": [],
   "source": [
    " /* Enable HSI and wait for HSI ready*/\n",
    "  LL_RCC_HSI_Enable();\n",
    "\n",
    "  while(LL_RCC_HSI_IsReady() != 1)"
   ]
  },
  {
   "cell_type": "code",
   "execution_count": 11,
   "metadata": {},
   "outputs": [],
   "source": [
    "/* Select HSI as system clock */\n",
    "/* Wait for HSI switched */\n",
    "  LL_RCC_SetSysClkSource(LL_RCC_SYS_CLKSOURCE_HSI);"
   ]
  },
  {
   "cell_type": "markdown",
   "metadata": {},
   "source": []
  },
  {
   "cell_type": "markdown",
   "metadata": {},
   "source": [
    "### ADC example\n",
    "\n",
    "![adc_head](img/adc_head.png )\n",
    "\n",
    ">The code below have been taken from **ADC3_DMA** ([main.c](../STM32F4-Discovery_FW_V1.1.0/Project/Peripheral_Examples/ADC3_DMA/main.c)) example of [Standard Peripheral Library(SPL) for STM32F4DISCOVERY](https://www.st.com/content/st_com/en/products/embedded-software/mcu-mpu-embedded-software/stm32-embedded-software/stm32-standard-peripheral-library-expansion/stsw-stm32068.html#overview).\n",
    "DMA code was dropped."
   ]
  },
  {
   "cell_type": "code",
   "execution_count": 12,
   "metadata": {},
   "outputs": [],
   "source": [
    "/*## Configuration of GPIO used by ADC channels ############################*/\n",
    "  \n",
    "  /* Note: On this STM32 device, ADC1 channel 4 is mapped on GPIO pin PA.04 */ \n",
    "  \n",
    "  /* Enable GPIO Clock */\n",
    "  LL_AHB1_GRP1_EnableClock(LL_AHB1_GRP1_PERIPH_GPIOA);\n",
    "  \n",
    "  /* Configure GPIO in analog mode to be used as ADC input */\n",
    "  LL_GPIO_SetPinMode(GPIOA, LL_GPIO_PIN_4, LL_GPIO_MODE_ANALOG);\n",
    "  \n",
    "  /*## Configuration of ADC ##################################################*/\n",
    "  \n",
    "  /*## Configuration of ADC hierarchical scope: common to several ADC ########*/\n",
    "  \n",
    "  /* Enable ADC clock (core clock) */\n",
    "  LL_APB2_GRP1_EnableClock(LL_APB2_GRP1_PERIPH_ADC1);\n",
    "  \n",
    "  /* Note: Hardware constraint (refer to description of the functions         */\n",
    "  /*       below):                                                            */\n",
    "  /*       On this STM32 serie, setting of these features are not             */\n",
    "  /*       conditioned to ADC state.                                          */\n",
    "  /*       However, in order to be compliant with other STM32 series          */\n",
    "  /*       and to show the best practice usages, ADC state is checked.        */\n",
    "  /*       Software can be optimized by removing some of these checks, if     */\n",
    "  /*       they are not relevant considering previous settings and actions    */\n",
    "  /*       in user application.                                               */\n",
    "  if(__LL_ADC_IS_ENABLED_ALL_COMMON_INSTANCE() == 0)\n",
    "  {\n",
    "    /* Note: Call of the functions below are commented because they are       */\n",
    "    /*       useless in this example:                                         */\n",
    "    /*       setting corresponding to default configuration from reset state. */\n",
    "    \n",
    "    /* Set ADC clock (conversion clock) common to several ADC instances */\n",
    "    LL_ADC_SetCommonClock(__LL_ADC_COMMON_INSTANCE(ADC1), LL_ADC_CLOCK_SYNC_PCLK_DIV2);\n",
    "    \n",
    "    /* Set ADC measurement path to internal channels */\n",
    "    // LL_ADC_SetCommonPathInternalCh(__LL_ADC_COMMON_INSTANCE(ADC1), LL_ADC_PATH_INTERNAL_NONE);\n",
    "    \n",
    "    \n",
    "  /*## Configuration of ADC hierarchical scope: multimode ####################*/\n",
    "  \n",
    "    /* Set ADC multimode configuration */\n",
    "    // LL_ADC_SetMultimode(__LL_ADC_COMMON_INSTANCE(ADC1), LL_ADC_MULTI_INDEPENDENT);\n",
    "    \n",
    "    /* Set ADC multimode DMA transfer */\n",
    "    // LL_ADC_SetMultiDMATransfer(__LL_ADC_COMMON_INSTANCE(ADC1), LL_ADC_MULTI_REG_DMA_EACH_ADC);\n",
    "    \n",
    "    /* Set ADC multimode: delay between 2 sampling phases */\n",
    "    // LL_ADC_SetMultiTwoSamplingDelay(__LL_ADC_COMMON_INSTANCE(ADC1), LL_ADC_MULTI_TWOSMP_DELAY_1CYCLE);\n",
    "    \n",
    "  }\n",
    "  \n",
    "  \n",
    "  /*## Configuration of ADC hierarchical scope: ADC instance #################*/\n",
    "  \n",
    "  /* Note: Hardware constraint (refer to description of the functions         */\n",
    "  /*       below):                                                            */\n",
    "  /*       On this STM32 serie, setting of these features are not             */\n",
    "  /*       conditioned to ADC state.                                          */\n",
    "  /*       However, ADC state is checked anyway with standard requirements    */\n",
    "  /*       (refer to description of this function).                           */\n",
    "  if (LL_ADC_IsEnabled(ADC1) == 0)\n",
    "  {\n",
    "    /* Note: Call of the functions below are commented because they are       */\n",
    "    /*       useless in this example:                                         */\n",
    "    /*       setting corresponding to default configuration from reset state. */\n",
    "    \n",
    "    /* Set ADC data resolution */\n",
    "    // LL_ADC_SetResolution(ADC1, LL_ADC_RESOLUTION_12B);\n",
    "    \n",
    "    /* Set ADC conversion data alignment */\n",
    "    // LL_ADC_SetResolution(ADC1, LL_ADC_DATA_ALIGN_RIGHT);\n",
    "    \n",
    "    /* Set Set ADC sequencers scan mode, for all ADC groups                   */\n",
    "    /* (group regular, group injected).                                       */\n",
    "    // LL_ADC_SetSequencersScanMode(ADC1, LL_ADC_SEQ_SCAN_DISABLE);\n",
    "    \n",
    "  }\n",
    "  \n",
    "  \n",
    "  /*## Configuration of ADC hierarchical scope: ADC group regular ############*/\n",
    "  \n",
    "  /* Note: Hardware constraint (refer to description of the functions         */\n",
    "  /*       below):                                                            */\n",
    "  /*       On this STM32 serie, setting of these features are not             */\n",
    "  /*       conditioned to ADC state.                                          */\n",
    "  /*       However, ADC state is checked anyway with standard requirements    */\n",
    "  /*       (refer to description of this function).                           */\n",
    "  if (LL_ADC_IsEnabled(ADC1) == 0)\n",
    "  {\n",
    "    /* Set ADC group regular trigger source */\n",
    "    LL_ADC_REG_SetTriggerSource(ADC1, LL_ADC_REG_TRIG_SOFTWARE);\n",
    "    \n",
    "    /* Set ADC group regular trigger polarity */\n",
    "    // LL_ADC_REG_SetTriggerEdge(ADC1, LL_ADC_REG_TRIG_EXT_RISING);\n",
    "    \n",
    "    /* Set ADC group regular continuous mode */\n",
    "    LL_ADC_REG_SetContinuousMode(ADC1, LL_ADC_REG_CONV_CONTINUOUS);\n",
    "    \n",
    "    /* Set ADC group regular conversion data transfer */\n",
    "    // LL_ADC_REG_SetDMATransfer(ADC1, LL_ADC_REG_DMA_TRANSFER_NONE);\n",
    "    \n",
    "    /* Specify which ADC flag between EOC (end of unitary conversion)         */\n",
    "    /* or EOS (end of sequence conversions) is used to indicate               */\n",
    "    /* the end of conversion.                                                 */\n",
    "    // LL_ADC_REG_SetFlagEndOfConversion(ADC1, LL_ADC_REG_FLAG_EOC_SEQUENCE_CONV);\n",
    "    \n",
    "    /* Set ADC group regular sequencer */\n",
    "    /* Note: On this STM32 serie, ADC group regular sequencer is              */\n",
    "    /*       fully configurable: sequencer length and each rank               */\n",
    "    /*       affectation to a channel are configurable.                       */\n",
    "    /*       Refer to description of function                                 */\n",
    "    /*       \"LL_ADC_REG_SetSequencerLength()\".                               */\n",
    "    \n",
    "    /* Set ADC group regular sequencer length and scan direction */\n",
    "    LL_ADC_REG_SetSequencerLength(ADC1, LL_ADC_REG_SEQ_SCAN_DISABLE);\n",
    "    \n",
    "    /* Set ADC group regular sequencer discontinuous mode */\n",
    "    // LL_ADC_REG_SetSequencerDiscont(ADC1, LL_ADC_REG_SEQ_DISCONT_DISABLE);\n",
    "    \n",
    "    /* Set ADC group regular sequence: channel on the selected sequence rank. */\n",
    "    LL_ADC_REG_SetSequencerRanks(ADC1, LL_ADC_REG_RANK_1, LL_ADC_CHANNEL_4);\n",
    "  }\n",
    "  \n",
    "  \n",
    "  /*## Configuration of ADC hierarchical scope: ADC group injected ###########*/\n",
    "  \n",
    "  /* Note: Hardware constraint (refer to description of the functions         */\n",
    "  /*       below):                                                            */\n",
    "  /*       On this STM32 serie, setting of these features are not             */\n",
    "  /*       conditioned to ADC state.                                          */\n",
    "  /*       However, ADC state is checked anyway with standard requirements    */\n",
    "  /*       (refer to description of this function).                           */\n",
    "  if (LL_ADC_IsEnabled(ADC1) == 0)\n",
    "  {\n",
    "    /* Note: Call of the functions below are commented because they are       */\n",
    "    /*       useless in this example:                                         */\n",
    "    /*       setting corresponding to default configuration from reset state. */\n",
    "    \n",
    "    /* Set ADC group injected trigger source */\n",
    "    // LL_ADC_INJ_SetTriggerSource(ADC1, LL_ADC_INJ_TRIG_SOFTWARE);\n",
    "    \n",
    "    /* Set ADC group injected trigger polarity */\n",
    "    // LL_ADC_INJ_SetTriggerEdge(ADC1, LL_ADC_INJ_TRIG_EXT_RISING);\n",
    "    \n",
    "    /* Set ADC group injected conversion trigger  */\n",
    "    // LL_ADC_INJ_SetTrigAuto(ADC1, LL_ADC_INJ_TRIG_INDEPENDENT);\n",
    "    \n",
    "    /* Set ADC group injected sequencer */\n",
    "    /* Note: On this STM32 serie, ADC group injected sequencer is             */\n",
    "    /*       fully configurable: sequencer length and each rank               */\n",
    "    /*       affectation to a channel are configurable.                       */\n",
    "    /*       Refer to description of function                                 */\n",
    "    /*       \"LL_ADC_INJ_SetSequencerLength()\".                               */\n",
    "    \n",
    "    /* Set ADC group injected sequencer length and scan direction */\n",
    "    // LL_ADC_INJ_SetSequencerLength(ADC1, LL_ADC_INJ_SEQ_SCAN_DISABLE);\n",
    "    \n",
    "    /* Set ADC group injected sequencer discontinuous mode */\n",
    "    // LL_ADC_INJ_SetSequencerDiscont(ADC1, LL_ADC_INJ_SEQ_DISCONT_DISABLE);\n",
    "    \n",
    "    /* Set ADC group injected sequence: channel on the selected sequence rank. */\n",
    "    // LL_ADC_INJ_SetSequencerRanks(ADC1, LL_ADC_INJ_RANK_1, LL_ADC_CHANNEL_4);\n",
    "  }\n",
    "  \n",
    "  \n",
    "  /*## Configuration of ADC hierarchical scope: channels #####################*/\n",
    "  \n",
    "  /* Note: Hardware constraint (refer to description of the functions         */\n",
    "  /*       below):                                                            */\n",
    "  /*       On this STM32 serie, setting of these features are not             */\n",
    "  /*       conditioned to ADC state.                                          */\n",
    "  /*       However, in order to be compliant with other STM32 series          */\n",
    "  /*       and to show the best practice usages, ADC state is checked.        */\n",
    "  /*       Software can be optimized by removing some of these checks, if     */\n",
    "  /*       they are not relevant considering previous settings and actions    */\n",
    "  /*       in user application.                                               */\n",
    "  if (LL_ADC_IsEnabled(ADC1) == 0)\n",
    "  {\n",
    "    /* Set ADC channels sampling time */\n",
    "    LL_ADC_SetChannelSamplingTime(ADC1, LL_ADC_CHANNEL_4, LL_ADC_SAMPLINGTIME_480CYCLES);\n",
    "  }\n",
    "\n",
    "/*## Operation on ADC hierarchical scope: ADC instance #####################*/\n",
    "  \n",
    "  /* Note: Hardware constraint (refer to description of the functions         */\n",
    "  /*       below):                                                            */\n",
    "  /*       On this STM32 serie, setting of these features are not             */\n",
    "  /*       conditioned to ADC state.                                          */\n",
    "  /*       However, in order to be compliant with other STM32 series          */\n",
    "  /*       and to show the best practice usages, ADC state is checked.        */\n",
    "  /*       Software can be optimized by removing some of these checks, if     */\n",
    "  /*       they are not relevant considering previous settings and actions    */\n",
    "  /*       in user application.                                               */\n",
    "  if (LL_ADC_IsEnabled(ADC1) == 0)\n",
    "  {\n",
    "    /* Enable ADC */\n",
    "    LL_ADC_Enable(ADC1);\n",
    "  }\n",
    "\n",
    "  if (LL_ADC_IsEnabled(ADC1) == 0)\n",
    "  {\n",
    "      std::cerr << \"Error: Invalid Initialization of ADC1\" << std::endl;\n",
    "  }"
   ]
  },
  {
   "cell_type": "markdown",
   "metadata": {},
   "source": [
    "The function definition. This function does conversion and return the raw ADC value:"
   ]
  },
  {
   "cell_type": "code",
   "execution_count": 13,
   "metadata": {},
   "outputs": [
    {
     "data": {
      "text/plain": [
       "1034"
      ]
     },
     "execution_count": 13,
     "metadata": {},
     "output_type": "execute_result"
    }
   ],
   "source": [
    "uint16_t ADC_value(){\n",
    "    LL_ADC_REG_StartConversionSWStart(ADC1);\n",
    "    return LL_ADC_REG_ReadConversionData12(ADC1);\n",
    "}\n",
    "\n",
    "ADC_value()"
   ]
  },
  {
   "cell_type": "markdown",
   "metadata": {},
   "source": [
    "Prepare canvas, which shows ADC data. [Template](https://github.com/QuantStack/xplot/blob/3399c4b96dffb1fec9d9c44de74d3d223bb04789/notebooks/xplot.ipynb)\n",
    "> First install [xplot](https://github.com/QuantStack/xplot) or make sure you have it\n",
    "<details>\n",
    "  <summary>The kernel of notebook should be  <b>C++14</b> (clck here)</summary>\n",
    "    \n",
    "![Image](img/Cpp14.png)  \n",
    "\n",
    "</details>"
   ]
  },
  {
   "cell_type": "code",
   "execution_count": 14,
   "metadata": {},
   "outputs": [
    {
     "data": {
      "application/vnd.jupyter.widget-view+json": {
       "model_id": "90dba4d1e7e64b26a6efee29005a16f1",
       "version_major": 2,
       "version_minor": 0
      },
      "text/plain": [
       "A Jupyter widget"
      ]
     },
     "execution_count": 14,
     "metadata": {},
     "output_type": "execute_result"
    }
   ],
   "source": [
    "#include \"xplot/xfigure.hpp\"\n",
    "#include \"xplot/xmarks.hpp\"\n",
    "#include \"xplot/xaxes.hpp\"\n",
    "\n",
    "const size_t ADC_BUFF_SIZE = 300;\n",
    "xpl::figure fig;\n",
    "xpl::linear_scale sx, sy;\n",
    "xpl::lines line(sx, sy);\n",
    "std::vector<uint16_t> adc_data(ADC_BUFF_SIZE);\n",
    "std::vector<uint16_t> view_data(0);\n",
    "std::vector<int> x_line(ADC_BUFF_SIZE);\n",
    "int i = 0;\n",
    "for( auto & x : x_line){x = i++;}\n",
    "line.x = x_line;\n",
    "line.y = adc_data;\n",
    "fig.add_mark(line);\n",
    "    \n",
    "xpl::axis hx(sx), hy(sy);\n",
    "hy.orientation = \"vertical\";\n",
    "fig.add_axis(hx);\n",
    "fig.add_axis(hy);\n",
    "fig"
   ]
  },
  {
   "cell_type": "markdown",
   "metadata": {},
   "source": [
    "Plug a potentiometer into the PC4 pin and run the code below. Rotate the shaft and you will get the voltage versus time chart:"
   ]
  },
  {
   "cell_type": "code",
   "execution_count": 15,
   "metadata": {},
   "outputs": [],
   "source": [
    "#include <unistd.h>\n",
    "\n",
    "for(size_t i = 0; i < ADC_BUFF_SIZE; i++){\n",
    "    adc_data[i] = ADC_value();\n",
    "    view_data.resize(i+1);\n",
    "    for(int j=0; j<= i; j++){\n",
    "        view_data[j] = adc_data[j];\n",
    "    }\n",
    "    //plot ADC data\n",
    "    line.y = view_data;\n",
    "    usleep(100000);\n",
    "}"
   ]
  },
  {
   "cell_type": "code",
   "execution_count": null,
   "metadata": {},
   "outputs": [],
   "source": [
    "adc_data.clear();\n",
    "adc_data.resize(ADC_BUFF_SIZE);\n",
    "line.y = adc_data;"
   ]
  },
  {
   "cell_type": "code",
   "execution_count": null,
   "metadata": {},
   "outputs": [],
   "source": []
  }
 ],
 "metadata": {
  "kernelspec": {
   "display_name": "C++14",
   "language": "C++14",
   "name": "xcpp14"
  },
  "language_info": {
   "codemirror_mode": "text/x-c++src",
   "file_extension": ".cpp",
   "mimetype": "text/x-c++src",
   "name": "c++",
   "version": "-std=c++14"
  }
 },
 "nbformat": 4,
 "nbformat_minor": 2
}
