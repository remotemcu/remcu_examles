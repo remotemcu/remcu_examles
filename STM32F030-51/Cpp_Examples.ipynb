{
 "cells": [
  {
   "cell_type": "markdown",
   "metadata": {},
   "source": [
    "# C++ Cling Examples for STM32F030/51 MCU\n",
    "![stm32 remcu](img/title.png)"
   ]
  },
  {
   "cell_type": "markdown",
   "metadata": {},
   "source": [
    "Load REMCU shared libray"
   ]
  },
  {
   "cell_type": "code",
   "execution_count": null,
   "metadata": {},
   "outputs": [],
   "source": [
    ".L libremcu"
   ]
  },
  {
   "cell_type": "markdown",
   "metadata": {},
   "source": [
    "Add path with header files"
   ]
  },
  {
   "cell_type": "code",
   "execution_count": null,
   "metadata": {},
   "outputs": [],
   "source": [
    ".I remcu_include/"
   ]
  },
  {
   "cell_type": "markdown",
   "metadata": {},
   "source": [
    "Including necessary header files.\n",
    "The “remcu.h” header must be always included before any MCU header files.\n"
   ]
  },
  {
   "cell_type": "code",
   "execution_count": null,
   "metadata": {},
   "outputs": [],
   "source": [
    "#include \"remcu.h\"\n",
    "#include \"stm32f0xx.h\""
   ]
  },
  {
   "cell_type": "markdown",
   "metadata": {},
   "source": [
    "Connection to a debug server. The [REMCU](https://remotemcu.github.io/) library is able to work with [OpenOCD](https://github.com/ilg-archived/openocd/releases/tag/v0.10.0-12-20190422) or [GDB server](https://atollic.com/resources/download/). There is using the “remcu_connect2OpenOCD” function for connecting to the OpenOcd server. The functions have the same set of parameters. The first parameter is an IP address of the debug server. The second one is a port of the debug server. For instance, OpenOCD server print the port in log messages. The third parameter is a connection timeout. Upon a successful connection, the function returns the “true” value, otherwise, it returns “false”.\n",
    "\n",
    "Before that, plug stm32 board with debugger to PC\n",
    "![Image](img/connection.png)\n",
    "run openocd utility in command line:\n",
    "```\n",
    "openocd -f interface/stlink-v2.cfg -f target/stm32f0x.cfg\n",
    "```\n",
    "Result:\n",
    "![Image](img/openocd_unix.png)"
   ]
  },
  {
   "cell_type": "code",
   "execution_count": null,
   "metadata": {},
   "outputs": [],
   "source": [
    "const char * debug_server_ip = \"localhost\";\n",
    "const uint16_t default_openocd_port = 6666;\n",
    "const uint16_t default_gdb_port = 3333; // if you use remcu_connect2GDB function\n",
    "const int timeout_sec = 3; // It can not be negative\n",
    "bool connection = false;"
   ]
  },
  {
   "cell_type": "code",
   "execution_count": null,
   "metadata": {},
   "outputs": [],
   "source": [
    "connection = remcu_connect2OpenOCD(debug_server_ip, default_openocd_port, timeout_sec)"
   ]
  },
  {
   "cell_type": "markdown",
   "metadata": {},
   "source": [
    "If you use GDB server (either OpenOCD or ST-Link GDB server or Jlink GDB server  etc.), you uncomment code below and run it:\n",
    "<details>\n",
    "  <summary> Jlink windows. Where the port is written <b> (click here)</b></summary>\n",
    " \n",
    "<img src=\"https://raw.githubusercontent.com/remotemcu/remcu_examples/master/wiki/img/jlink.png\" >\n",
    "<img src=\"https://raw.githubusercontent.com/remotemcu/remcu_examples/master/wiki/img/jlink2.png\" >\n",
    "</details>  \n",
    "<details>\n",
    "  <summary> ST link GDB windows. Where the port is written<b> (click here)</b></summary>\n",
    "\n",
    "<img src=\"https://raw.githubusercontent.com/remotemcu/remcu_examples/master/wiki/img/run-stling-gdb.png\">\n",
    "</details>"
   ]
  },
  {
   "cell_type": "code",
   "execution_count": null,
   "metadata": {},
   "outputs": [],
   "source": [
    "//const uint16_t default_openocd_gdb_port = 3333;\n",
    "//const uint16_t default_jlink_port = 2331;\n",
    "//const uint16_t default_stlink_port = 61234;\n",
    "//const uint16_t custom_port = ...;\n",
    "//connection = remcu_connect2GDB(debug_server_ip, default_openocd_gdb_port /*default_jlink_port*/ /*default_stlink_port*/, timeout_sec)"
   ]
  },
  {
   "cell_type": "code",
   "execution_count": null,
   "metadata": {},
   "outputs": [],
   "source": [
    "if(connection == false){\n",
    "    fprintf(stderr, \"1. Check connection to debug server\\n\");\n",
    "    fprintf(stderr, \"2. Check debug server running\\n\");\n",
    "    fprintf(stderr, \"3. Check the debugged MCU is correct\\n\");\n",
    "    exit(1);\n",
    "}"
   ]
  },
  {
   "cell_type": "markdown",
   "metadata": {},
   "source": [
    "If connection were failed and the function returned false. See [Issue](https://github.com/remotemcu/remcu_examples/issues) and [Troubleshooting Page](https://remotemcu.github.io/troubleshooting-page) \n",
    "    \n",
    "If connection were success... Jupyter Output:\n",
    "![Image](img/success_connection_for_unix.png)"
   ]
  },
  {
   "cell_type": "markdown",
   "metadata": {},
   "source": [
    "Reset the MCU:"
   ]
  },
  {
   "cell_type": "code",
   "execution_count": null,
   "metadata": {
    "scrolled": true
   },
   "outputs": [],
   "source": [
    "remcu_resetRemoteUnit(__HALT)"
   ]
  },
  {
   "cell_type": "markdown",
   "metadata": {},
   "source": [
    "At this stage the microcontroller clock setting is already configured, this is done through SystemInit() function which is called from startup file (system_stm32f0xx.s) before to branch to application main. To see the default setting of SystemInit() function, refer to remcu_include/system_stm32f0xx.c file"
   ]
  },
  {
   "cell_type": "code",
   "execution_count": null,
   "metadata": {},
   "outputs": [],
   "source": [
    "SystemInit();"
   ]
  },
  {
   "cell_type": "markdown",
   "metadata": {},
   "source": [
    "### GPIO Example\n",
    "\n",
    ">The code below have been taken from **GPIO_IOToggle** ([main.c](STM32F0xx_StdPeriph_Examples/GPIO/GPIO_IOToggle/main.c)) example of [Standard Peripheral Library(SPL) for STM32F0x line](https://www.st.com/en/embedded-software/stsw-stm32048.html)"
   ]
  },
  {
   "cell_type": "markdown",
   "metadata": {},
   "source": [
    "### [STM32F030 board](https://stm32-base.org/boards/STM32F030F4P6-STM32F030-DEMO-BOARD-V1.1.html#User-LED)\n",
    "![stm32f30 gpio](img/30_gpio.png)"
   ]
  },
  {
   "cell_type": "markdown",
   "metadata": {},
   "source": [
    "LED GPIO Periph clock enable:"
   ]
  },
  {
   "cell_type": "code",
   "execution_count": null,
   "metadata": {},
   "outputs": [],
   "source": [
    "RCC_AHBPeriphClockCmd(RCC_AHBPeriph_GPIOA, ENABLE);"
   ]
  },
  {
   "cell_type": "markdown",
   "metadata": {},
   "source": [
    "Configure PA4 in output pushpull mode:"
   ]
  },
  {
   "cell_type": "code",
   "execution_count": null,
   "metadata": {},
   "outputs": [],
   "source": [
    "GPIO_InitTypeDef GPIO_InitStructure;"
   ]
  },
  {
   "cell_type": "code",
   "execution_count": null,
   "metadata": {},
   "outputs": [],
   "source": [
    "GPIO_InitStructure.GPIO_Pin = GPIO_Pin_4;\n",
    "GPIO_InitStructure.GPIO_Mode = GPIO_Mode_OUT;\n",
    "GPIO_InitStructure.GPIO_OType = GPIO_OType_PP;\n",
    "GPIO_InitStructure.GPIO_Speed = GPIO_Speed_2MHz;\n",
    "GPIO_InitStructure.GPIO_PuPd = GPIO_PuPd_NOPULL;\n",
    "GPIO_Init(GPIOA, &GPIO_InitStructure);"
   ]
  },
  {
   "cell_type": "markdown",
   "metadata": {},
   "source": [
    "Flash led on:"
   ]
  },
  {
   "cell_type": "code",
   "execution_count": null,
   "metadata": {},
   "outputs": [],
   "source": [
    "GPIO_ResetBits(GPIOA, GPIO_Pin_4);"
   ]
  },
  {
   "cell_type": "markdown",
   "metadata": {},
   "source": [
    "Flash led off:"
   ]
  },
  {
   "cell_type": "code",
   "execution_count": null,
   "metadata": {},
   "outputs": [],
   "source": [
    "GPIO_SetBits(GPIOA, GPIO_Pin_4)"
   ]
  },
  {
   "cell_type": "markdown",
   "metadata": {},
   "source": [
    "### [STM32F051 board](https://stm32-base.org/boards/STM32F051C8T6-LC-Technology#User-LED)\n",
    "![stm32f30 gpio](img/51_gpio.png)"
   ]
  },
  {
   "cell_type": "markdown",
   "metadata": {},
   "source": [
    "GPIOC Periph clock enable:"
   ]
  },
  {
   "cell_type": "code",
   "execution_count": null,
   "metadata": {},
   "outputs": [],
   "source": [
    "RCC_AHBPeriphClockCmd(RCC_AHBPeriph_GPIOC, ENABLE);"
   ]
  },
  {
   "cell_type": "markdown",
   "metadata": {},
   "source": [
    "Configure PC13 in output pushpull mode:"
   ]
  },
  {
   "cell_type": "code",
   "execution_count": null,
   "metadata": {},
   "outputs": [],
   "source": [
    "GPIO_InitTypeDef GPIO_InitStructure;"
   ]
  },
  {
   "cell_type": "code",
   "execution_count": null,
   "metadata": {},
   "outputs": [],
   "source": [
    "GPIO_InitStructure.GPIO_Pin = GPIO_Pin_13;\n",
    "GPIO_InitStructure.GPIO_Mode = GPIO_Mode_OUT;\n",
    "GPIO_InitStructure.GPIO_OType = GPIO_OType_PP;\n",
    "GPIO_InitStructure.GPIO_Speed = GPIO_Speed_2MHz;\n",
    "GPIO_InitStructure.GPIO_PuPd = GPIO_PuPd_NOPULL;\n",
    "GPIO_Init(GPIOC, &GPIO_InitStructure);"
   ]
  },
  {
   "cell_type": "markdown",
   "metadata": {},
   "source": [
    "Flash led on:"
   ]
  },
  {
   "cell_type": "code",
   "execution_count": null,
   "metadata": {},
   "outputs": [],
   "source": [
    "GPIO_ResetBits(GPIOC, GPIO_Pin_13);"
   ]
  },
  {
   "cell_type": "markdown",
   "metadata": {},
   "source": [
    "Flash led off:"
   ]
  },
  {
   "cell_type": "code",
   "execution_count": null,
   "metadata": {},
   "outputs": [],
   "source": [
    "GPIO_SetBits(GPIOC, GPIO_Pin_13)"
   ]
  },
  {
   "cell_type": "markdown",
   "metadata": {},
   "source": [
    "If it didn’t happen, you can use the utility functions to detect errors...\n",
    "\n",
    "### Utility Functions\n",
    "\n",
    "The ***remcu_getErrorCount***(see [“remcu.h”](remcu_include/remcu.h) or [API reference](https://remotemcu.github.io/api-v1-0)) function returns the number of errors that occurred after connection."
   ]
  },
  {
   "cell_type": "code",
   "execution_count": null,
   "metadata": {},
   "outputs": [],
   "source": [
    "remcu_getErrorCount()"
   ]
  },
  {
   "cell_type": "markdown",
   "metadata": {},
   "source": [
    "If no error occurred, result ***0***, otherwise see [Issue](https://github.com/remotemcu/remcu_examples/issues) and [Troubleshooting Page](https://remotemcu.github.io/troubleshooting-page)\n",
    "\n",
    "The ***remcu_isConnected***(see [“remcu.h”](remcu_include/remcu.h) or [API reference](https://remotemcu.github.io/api-v1-0)) function indicates status of the current debug server connection:"
   ]
  },
  {
   "cell_type": "code",
   "execution_count": null,
   "metadata": {},
   "outputs": [],
   "source": [
    "remcu_isConnected()"
   ]
  },
  {
   "cell_type": "markdown",
   "metadata": {},
   "source": [
    "Result: connected ***true*** , disconnected ***false***\n",
    "\n",
    "Some of debug adapters can have hardware problems. The ***remcu_debuggerTest***(see [“remcu.h”](remcu_include/remcu.h) or [API reference](https://remotemcu.github.io/api-v1-0)) function enables to detect such adapters. The function returns a null pointer if the test is successful:\n"
   ]
  },
  {
   "cell_type": "code",
   "execution_count": null,
   "metadata": {},
   "outputs": [],
   "source": [
    "remcu_debuggerTest()"
   ]
  },
  {
   "cell_type": "markdown",
   "metadata": {},
   "source": [
    "If no error occurred, result ***nullptr***, otherwise see [Issue](https://github.com/remotemcu/remcu_examples/issues) and [Troubleshooting Page](https://remotemcu.github.io/troubleshooting-page)"
   ]
  },
  {
   "cell_type": "markdown",
   "metadata": {},
   "source": [
    ">If bugs are not discovered and the chip don't responds to driver function call or the result of work was not what you expected, see [Issue](https://github.com/remotemcu/remcu_examples/issues) and [Troubleshooting Page](https://remotemcu.github.io/troubleshooting-page)"
   ]
  },
  {
   "cell_type": "markdown",
   "metadata": {},
   "source": [
    "### ADC example\n",
    "![adc stm32f0x](img/adc_scheme.png)\n",
    ">The code below is based on **ADC_BasicExample** ([main.c](STM32F0xx_StdPeriph_Examples/ADC/ADC_BasicExample/main.c)) example of [Standard Peripheral Library(SPL) for STM32F0x line](https://www.st.com/en/embedded-software/stsw-stm32048.html)"
   ]
  },
  {
   "cell_type": "markdown",
   "metadata": {},
   "source": [
    "enable ADC system clock:"
   ]
  },
  {
   "cell_type": "code",
   "execution_count": null,
   "metadata": {},
   "outputs": [],
   "source": [
    "RCC_APB2PeriphClockCmd(RCC_APB2Periph_ADC1, ENABLE);"
   ]
  },
  {
   "cell_type": "markdown",
   "metadata": {},
   "source": [
    "GPIOC Periph clock enable:"
   ]
  },
  {
   "cell_type": "code",
   "execution_count": null,
   "metadata": {},
   "outputs": [],
   "source": [
    "RCC_AHBPeriphClockCmd(RCC_AHBPeriph_GPIOA, ENABLE);"
   ]
  },
  {
   "cell_type": "markdown",
   "metadata": {},
   "source": [
    "Configure PA.05 (ADC Channel5) as analog input:"
   ]
  },
  {
   "cell_type": "code",
   "execution_count": null,
   "metadata": {},
   "outputs": [],
   "source": [
    "GPIO_InitStructure.GPIO_Pin = GPIO_Pin_5;\n",
    "GPIO_InitStructure.GPIO_PuPd = GPIO_PuPd_NOPULL ;\n",
    "GPIO_InitStructure.GPIO_Mode = GPIO_Mode_AN;\n",
    "GPIO_Init(GPIOA, &GPIO_InitStructure);"
   ]
  },
  {
   "cell_type": "markdown",
   "metadata": {},
   "source": [
    "define ADC base config:"
   ]
  },
  {
   "cell_type": "code",
   "execution_count": null,
   "metadata": {},
   "outputs": [],
   "source": [
    "ADC_InitTypeDef ADC_InitStructure;"
   ]
  },
  {
   "cell_type": "code",
   "execution_count": null,
   "metadata": {},
   "outputs": [],
   "source": [
    "/* ADCs DeInit */  \n",
    "ADC_DeInit(ADC1);\n",
    "\n",
    "/* Initialize ADC structure */\n",
    "ADC_StructInit(&ADC_InitStructure);\n",
    "\n",
    "/* Configure the ADC1 in continuous mode with a resolution equal to 12 bits  */\n",
    "ADC_InitStructure.ADC_Resolution = ADC_Resolution_12b;\n",
    "ADC_InitStructure.ADC_ContinuousConvMode = ENABLE; \n",
    "ADC_InitStructure.ADC_ExternalTrigConvEdge = ADC_ExternalTrigConvEdge_None;\n",
    "ADC_InitStructure.ADC_DataAlign = ADC_DataAlign_Right;\n",
    "ADC_InitStructure.ADC_ScanDirection = ADC_ScanDirection_Upward;\n",
    "ADC_Init(ADC1, &ADC_InitStructure);"
   ]
  },
  {
   "cell_type": "markdown",
   "metadata": {},
   "source": [
    "ADC1 regular channel5 (PA5 pin) configuration:"
   ]
  },
  {
   "cell_type": "code",
   "execution_count": null,
   "metadata": {},
   "outputs": [],
   "source": [
    "ADC_ChannelConfig(ADC1, ADC_Channel_5, ADC_SampleTime_239_5Cycles);"
   ]
  },
  {
   "cell_type": "markdown",
   "metadata": {},
   "source": [
    "Enable ADC1 reset calibration register:"
   ]
  },
  {
   "cell_type": "code",
   "execution_count": null,
   "metadata": {},
   "outputs": [],
   "source": [
    "/* ADC Calibration */\n",
    "  ADC_GetCalibrationFactor(ADC1);"
   ]
  },
  {
   "cell_type": "markdown",
   "metadata": {},
   "source": [
    "Enable ADC1:"
   ]
  },
  {
   "cell_type": "code",
   "execution_count": null,
   "metadata": {},
   "outputs": [],
   "source": [
    "ADC_Cmd(ADC1, ENABLE);"
   ]
  },
  {
   "cell_type": "markdown",
   "metadata": {},
   "source": [
    "Check the end of ADC1 reset calibration register:"
   ]
  },
  {
   "cell_type": "code",
   "execution_count": null,
   "metadata": {},
   "outputs": [],
   "source": [
    "/* Wait the ADRDY flag */\n",
    "  while(!ADC_GetFlagStatus(ADC1, ADC_FLAG_ADRDY)); "
   ]
  },
  {
   "cell_type": "markdown",
   "metadata": {},
   "source": [
    "Start ADC1 Software Conversion:"
   ]
  },
  {
   "cell_type": "code",
   "execution_count": null,
   "metadata": {},
   "outputs": [],
   "source": [
    "/* ADC1 regular Software Start Conv */ \n",
    "  ADC_StartOfConversion(ADC1);"
   ]
  },
  {
   "cell_type": "markdown",
   "metadata": {},
   "source": [
    "The function definition. This function does conversion and return the raw ADC value:"
   ]
  },
  {
   "cell_type": "code",
   "execution_count": null,
   "metadata": {},
   "outputs": [],
   "source": [
    "uint16_t ADC_value(){\n",
    "    /* Test EOC flag */\n",
    "    while(ADC_GetFlagStatus(ADC1, ADC_FLAG_EOC) == RESET);\n",
    "    \n",
    "    /* Get ADC1 converted data */\n",
    "    return ADC_GetConversionValue(ADC1);\n",
    "}\n",
    "\n",
    "ADC_value()"
   ]
  },
  {
   "cell_type": "markdown",
   "metadata": {},
   "source": [
    "Prepare canvas, which shows ADC data. [Template](https://github.com/QuantStack/xplot/blob/3399c4b96dffb1fec9d9c44de74d3d223bb04789/notebooks/xplot.ipynb)\n",
    "> First install [xplot](https://github.com/QuantStack/xplot) or make sure you have it\n",
    "<details>\n",
    "  <summary>The kernel of notebook should be  <b>C++14</b> (clck here)</summary>\n",
    "    \n",
    "![Image](img/Cpp14.png)  \n",
    "\n",
    "</details>"
   ]
  },
  {
   "cell_type": "code",
   "execution_count": null,
   "metadata": {},
   "outputs": [],
   "source": [
    "#include \"xplot/xfigure.hpp\"\n",
    "#include \"xplot/xmarks.hpp\"\n",
    "#include \"xplot/xaxes.hpp\"\n",
    "\n",
    "const size_t ADC_BUFF_SIZE = 100;\n",
    "xpl::figure fig;\n",
    "xpl::linear_scale sx, sy;\n",
    "xpl::lines line(sx, sy);\n",
    "std::vector<uint16_t> adc_data(ADC_BUFF_SIZE);\n",
    "std::vector<int> x_line(ADC_BUFF_SIZE);\n",
    "int i = 0;\n",
    "for( auto & x : x_line){x = i++;}\n",
    "line.x = x_line;\n",
    "line.y = adc_data;\n",
    "fig.add_mark(line);\n",
    "    \n",
    "xpl::axis hx(sx), hy(sy);\n",
    "hy.orientation = \"vertical\";\n",
    "fig.add_axis(hx);\n",
    "fig.add_axis(hy);\n",
    "fig"
   ]
  },
  {
   "cell_type": "markdown",
   "metadata": {},
   "source": [
    "Plug a potentiometer into the PA5 pin and run the code below. Rotate the shaft and you will get the voltage versus time chart:"
   ]
  },
  {
   "cell_type": "code",
   "execution_count": null,
   "metadata": {},
   "outputs": [],
   "source": [
    "#include <unistd.h>\n",
    "\n",
    "for(size_t i = 0; i < 100; i++){\n",
    "    adc_data.resize(i + 1);\n",
    "    adc_data[i % ADC_BUFF_SIZE] = ADC_value();\n",
    "    //plot ADC data\n",
    "    line.y = adc_data;\n",
    "    usleep(200000);\n",
    "}\n"
   ]
  },
  {
   "cell_type": "markdown",
   "metadata": {},
   "source": [
    "<details>\n",
    "  <summary>Result<b>(click to show)</b></summary>\n",
    "\n",
    "![Image](img/adc_cpp.png)\n",
    "</details>"
   ]
  },
  {
   "cell_type": "code",
   "execution_count": null,
   "metadata": {},
   "outputs": [],
   "source": []
  },
  {
   "cell_type": "code",
   "execution_count": null,
   "metadata": {},
   "outputs": [],
   "source": []
  },
  {
   "cell_type": "markdown",
   "metadata": {},
   "source": [
    "Finalizing work with REMCU Library:"
   ]
  },
  {
   "cell_type": "code",
   "execution_count": null,
   "metadata": {},
   "outputs": [],
   "source": [
    "remcu_disconnect()"
   ]
  }
 ],
 "metadata": {
  "kernelspec": {
   "display_name": "C++14",
   "language": "C++14",
   "name": "xcpp14"
  },
  "language_info": {
   "codemirror_mode": "text/x-c++src",
   "file_extension": ".cpp",
   "mimetype": "text/x-c++src",
   "name": "c++",
   "version": "-std=c++14"
  }
 },
 "nbformat": 4,
 "nbformat_minor": 2
}
