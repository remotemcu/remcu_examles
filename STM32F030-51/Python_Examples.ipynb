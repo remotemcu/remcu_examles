{
 "cells": [
  {
   "cell_type": "markdown",
   "metadata": {},
   "source": [
    "# Python Example for STM32F030/51 MCU\n",
    "![stm32 remcu](img/title_python.png)"
   ]
  },
  {
   "cell_type": "code",
   "execution_count": null,
   "metadata": {},
   "outputs": [],
   "source": [
    "import ctypes\n",
    "import sys"
   ]
  },
  {
   "cell_type": "markdown",
   "metadata": {},
   "source": [
    "[STM32F051_StdPeriph_Lib.py](remcu_include/STM32F051_StdPeriph_Lib.py) is a Python wrapper that containing all necessary constants and structures which makes it possible to use the Standard Peripheral Library function just like with C and C++ code."
   ]
  },
  {
   "cell_type": "code",
   "execution_count": null,
   "metadata": {
    "scrolled": true
   },
   "outputs": [],
   "source": [
    "from remcu_include.STM32F051_StdPeriph_Lib import *"
   ]
  },
  {
   "cell_type": "markdown",
   "metadata": {},
   "source": [
    "Loading the REMCU library"
   ]
  },
  {
   "cell_type": "code",
   "execution_count": null,
   "metadata": {},
   "outputs": [],
   "source": [
    "if sys.platform.startswith('win32'): #Windows\n",
    "    remcu = ctypes.WinDLL(\"remcu.dll\")\n",
    "elif sys.platform.startswith('cygwin'): #Windows/Cygwin\n",
    "    remcu = ctypes.WinDLL(\"remcu.dll\")\n",
    "elif sys.platform.startswith('linux'):  #Linux OS\n",
    "    remcu = ctypes.CDLL(\"./libremcu.so\")\n",
    "elif sys.platform.startswith('darwin'): #MacOS\n",
    "    remcu = ctypes.CDLL(\"./libremcu.dylib\")"
   ]
  },
  {
   "cell_type": "markdown",
   "metadata": {},
   "source": [
    "Connection to a debug server. The [REMCU](https://remotemcu.github.io/) library is able to work with [OpenOCD](https://github.com/ilg-archived/openocd/releases/tag/v0.10.0-12-20190422) or [GDB server](https://atollic.com/resources/download/). There is using the ***remcu_connect2OpenOCD***(see [“remcu.h”](remcu_include/remcu.h) or [API reference](https://remotemcu.github.io/api-v1-0)) function for connecting to the OpenOcd server. The functions have the same set of parameters. The first parameter is an IP address of the debug server. The second one is a port of the debug server. For instance, OpenOCD server print the port in log messages. The third parameter is a connection timeout. Upon a successful connection, the function returns the “true” value, otherwise, it returns “false”.\n",
    "\n",
    "> Detailed description of other REMCU function you see in [“remcu.h”](remcu_include/remcu.h) or [API reference](https://remotemcu.github.io/api-v1-0)\n",
    "\n",
    "Before that, plug stm32 board with debugger to PC\n",
    "![Image](img/connection.png)\n",
    "run openocd utility in command line:\n",
    "```bash\n",
    "openocd -f interface/stlink-v2.cfg -f target/stm32f0x.cfg\n",
    "```\n",
    "Result:\n",
    "![Image](img/openocd.png)"
   ]
  },
  {
   "cell_type": "code",
   "execution_count": null,
   "metadata": {},
   "outputs": [],
   "source": [
    "debug_server_ip = \"127.0.0.1\"\n",
    "default_openocd_port = 6666\n",
    "default_openocd_gdb_port = 3333\n",
    "default_jlink_port = 2331\n",
    "default_stlink_port = 61234\n",
    "#custom_port = ...\n",
    "timeout_sec = 3 # It can not be negative"
   ]
  },
  {
   "cell_type": "code",
   "execution_count": null,
   "metadata": {},
   "outputs": [],
   "source": [
    "success = remcu.remcu_connect2OpenOCD(debug_server_ip, default_openocd_port, timeout_sec)"
   ]
  },
  {
   "cell_type": "markdown",
   "metadata": {},
   "source": [
    "If you use GDB server (either OpenOCD or ST-Link GDB server or Jlink GDB server etc.), you uncomment code below and run it:\n",
    "<details>\n",
    "  <summary> Jlink windows. Where the port is written <b> (click here)</b></summary>\n",
    " \n",
    "<img src=\"https://raw.githubusercontent.com/remotemcu/remcu_examples/master/wiki/img/jlink.png\" >\n",
    "<img src=\"https://raw.githubusercontent.com/remotemcu/remcu_examples/master/wiki/img/jlink2.png\" >\n",
    "</details>  \n",
    "<details>\n",
    "  <summary> ST link GDB server windows. Where the port is written<b> (click here)</b></summary>\n",
    "\n",
    "<img src=\"https://raw.githubusercontent.com/remotemcu/remcu_examples/master/wiki/img/run-stling-gdb.png\">\n",
    "</details>"
   ]
  },
  {
   "cell_type": "code",
   "execution_count": null,
   "metadata": {},
   "outputs": [],
   "source": [
    "# For OpenOCD\n",
    "#success = remcu.remcu_connect2GDB(debug_server_ip, default_openocd_gdb_port, timeout_sec)\n",
    "# For Jlink\n",
    "#success = remcu.remcu_connect2GDB(debug_server_ip, default_jlink_port, timeout_sec)\n",
    "# For ST link GDB server\n",
    "#success = remcu.remcu_connect2GDB(debug_server_ip, default_stlink_port, timeout_sec)"
   ]
  },
  {
   "cell_type": "code",
   "execution_count": null,
   "metadata": {},
   "outputs": [],
   "source": [
    "if success == 0:\n",
    "    print(\"Server error. Possible solutions: \")\n",
    "    print(\"1. Check connection to debug server\")\n",
    "    print(\"2. Check debug server running\")\n",
    "    print(\"3. Run the script using Python2\")\n",
    "    exit()"
   ]
  },
  {
   "cell_type": "markdown",
   "metadata": {},
   "source": [
    "If connection were failed and the function returned false. See [Issue](https://github.com/remotemcu/remcu_examples/issues) and [Troubleshooting Page](https://remotemcu.github.io/troubleshooting-page) "
   ]
  },
  {
   "cell_type": "markdown",
   "metadata": {},
   "source": [
    "If connection were success... Jupyter Output:\n",
    "![Image](img/success_connection.png)"
   ]
  },
  {
   "cell_type": "markdown",
   "metadata": {},
   "source": [
    "Reset the MCU (see [“remcu.h”](remcu_include/remcu.h) or [API reference](https://remotemcu.github.io/api-v1-0)):"
   ]
  },
  {
   "cell_type": "code",
   "execution_count": null,
   "metadata": {},
   "outputs": [],
   "source": [
    "remcu.remcu_resetRemoteUnit(__HALT);"
   ]
  },
  {
   "cell_type": "markdown",
   "metadata": {},
   "source": [
    "At this stage the microcontroller clock setting is already configured, this is done through SystemInit() function which is called from startup file (startup_stm32f0xx.s) before to branch to application main. To see the default setting of SystemInit() function, refer to remcu_include/startup_stm32f0xx.c file"
   ]
  },
  {
   "cell_type": "code",
   "execution_count": null,
   "metadata": {},
   "outputs": [],
   "source": [
    "remcu.SystemInit();"
   ]
  },
  {
   "cell_type": "markdown",
   "metadata": {},
   "source": [
    "### GPIO Example\n",
    ">The code below have been taken from **GPIO_IOToggle** ([main.c](STM32F0xx_StdPeriph_Examples/GPIO/GPIO_IOToggle/main.c)) example of [Standard Peripheral Library(SPL) for STM32F0x line](https://www.st.com/en/embedded-software/stsw-stm32048.html)"
   ]
  },
  {
   "cell_type": "markdown",
   "metadata": {},
   "source": [
    "### [STM32F030 board](https://stm32-base.org/boards/STM32F030F4P6-STM32F030-DEMO-BOARD-V1.1.html#User-LED)\n",
    "![stm32f30 gpio](img/30_gpio.png)"
   ]
  },
  {
   "cell_type": "markdown",
   "metadata": {},
   "source": [
    "LED GPIO Periph clock enable:"
   ]
  },
  {
   "cell_type": "code",
   "execution_count": null,
   "metadata": {},
   "outputs": [],
   "source": [
    "remcu.RCC_AHBPeriphClockCmd(RCC_AHBPeriph_GPIOC, ENABLE);"
   ]
  },
  {
   "cell_type": "markdown",
   "metadata": {},
   "source": [
    "Configure PA4 in output pushpull mode:"
   ]
  },
  {
   "cell_type": "code",
   "execution_count": null,
   "metadata": {},
   "outputs": [],
   "source": [
    "GPIO_InitStructure = GPIO_InitTypeDef()\n",
    "GPIO_InitStructure.GPIO_Pin = GPIO_Pin_4;\n",
    "GPIO_InitStructure.GPIO_Mode = GPIO_Mode_OUT;\n",
    "GPIO_InitStructure.GPIO_OType = GPIO_OType_PP;\n",
    "GPIO_InitStructure.GPIO_Speed = GPIO_Speed_2MHz;\n",
    "GPIO_InitStructure.GPIO_PuPd = GPIO_PuPd_NOPULL;\n",
    "remcu.GPIO_Init(GPIOA, GPIO_InitStructure.ref());"
   ]
  },
  {
   "cell_type": "markdown",
   "metadata": {},
   "source": [
    "Flash led on:"
   ]
  },
  {
   "cell_type": "code",
   "execution_count": null,
   "metadata": {},
   "outputs": [],
   "source": [
    "remcu.GPIO_SetBits(GPIOA, GPIO_Pin_4);"
   ]
  },
  {
   "cell_type": "markdown",
   "metadata": {},
   "source": [
    "Flash led off:"
   ]
  },
  {
   "cell_type": "code",
   "execution_count": null,
   "metadata": {},
   "outputs": [],
   "source": [
    "remcu.GPIO_ResetBits(GPIOA, GPIO_Pin_4);"
   ]
  },
  {
   "cell_type": "markdown",
   "metadata": {},
   "source": [
    "### [STM32F051 board](https://stm32-base.org/boards/STM32F051C8T6-LC-Technology#User-LED)\n",
    "![stm32f30 gpio](img/51_gpio.png)"
   ]
  },
  {
   "cell_type": "markdown",
   "metadata": {},
   "source": [
    "LED GPIO Periph clock enable:"
   ]
  },
  {
   "cell_type": "code",
   "execution_count": null,
   "metadata": {},
   "outputs": [],
   "source": [
    "remcu.RCC_AHBPeriphClockCmd(RCC_AHBPeriph_GPIOC, ENABLE);"
   ]
  },
  {
   "cell_type": "markdown",
   "metadata": {},
   "source": [
    "Configure PC13 in output pushpull mode:"
   ]
  },
  {
   "cell_type": "code",
   "execution_count": null,
   "metadata": {},
   "outputs": [],
   "source": [
    "GPIO_InitStructure = GPIO_InitTypeDef()\n",
    "GPIO_InitStructure.GPIO_Pin = GPIO_Pin_13;\n",
    "GPIO_InitStructure.GPIO_Mode = GPIO_Mode_OUT;\n",
    "GPIO_InitStructure.GPIO_OType = GPIO_OType_PP;\n",
    "GPIO_InitStructure.GPIO_Speed = GPIO_Speed_2MHz;\n",
    "GPIO_InitStructure.GPIO_PuPd = GPIO_PuPd_NOPULL;\n",
    "remcu.GPIO_Init(GPIOC, GPIO_InitStructure.ref());"
   ]
  },
  {
   "cell_type": "markdown",
   "metadata": {},
   "source": [
    "Flash led on:"
   ]
  },
  {
   "cell_type": "code",
   "execution_count": null,
   "metadata": {},
   "outputs": [],
   "source": [
    "remcu.GPIO_SetBits(GPIOC,GPIO_Pin_13);"
   ]
  },
  {
   "cell_type": "markdown",
   "metadata": {},
   "source": [
    "Flash led off:"
   ]
  },
  {
   "cell_type": "code",
   "execution_count": null,
   "metadata": {},
   "outputs": [],
   "source": [
    "remcu.GPIO_ResetBits(GPIOC, GPIO_Pin_13);"
   ]
  },
  {
   "cell_type": "markdown",
   "metadata": {},
   "source": [
    "If it didn’t happen, you can use the utility functions to detect errors..."
   ]
  },
  {
   "cell_type": "markdown",
   "metadata": {},
   "source": [
    "### Utility Functions\n",
    "\n",
    "The ***remcu_getErrorCount***(see [“remcu.h”](remcu_include/remcu.h) or [API reference](https://remotemcu.github.io/api-v1-0)) function returns the number of errors that occurred after connection."
   ]
  },
  {
   "cell_type": "code",
   "execution_count": null,
   "metadata": {},
   "outputs": [],
   "source": [
    "remcu.remcu_getErrorCount()"
   ]
  },
  {
   "cell_type": "markdown",
   "metadata": {},
   "source": [
    "If no error occurred, result **0**, otherwise see [Issue](https://github.com/remotemcu/remcu_examples/issues) and [Troubleshooting Page](https://remotemcu.github.io/troubleshooting-page)\n",
    "\n",
    "The ***remcu_isConnected***(see [“remcu.h”](remcu_include/remcu.h) or [API reference](https://remotemcu.github.io/api-v1-0)) function indicates status of the current debug server connection."
   ]
  },
  {
   "cell_type": "code",
   "execution_count": null,
   "metadata": {},
   "outputs": [],
   "source": [
    "remcu.remcu_isConnected()"
   ]
  },
  {
   "cell_type": "markdown",
   "metadata": {},
   "source": [
    "Result: connected ***1*** , disconnected ***0***\n",
    "\n",
    "Some of debug adapters can have hardware problems. The ***remcu_debuggerTest***(see [“remcu.h”](remcu_include/remcu.h) or [API reference](https://remotemcu.github.io/api-v1-0)) function enables to detect such adapters. The function returns a null pointer if the test is successful."
   ]
  },
  {
   "cell_type": "code",
   "execution_count": null,
   "metadata": {},
   "outputs": [],
   "source": [
    "remcu.remcu_debuggerTest()"
   ]
  },
  {
   "cell_type": "markdown",
   "metadata": {},
   "source": [
    "If no error occurred, result **0**, otherwise see [Issue](https://github.com/remotemcu/remcu_examples/issues) and [Troubleshooting Page](https://remotemcu.github.io/troubleshooting-page)"
   ]
  },
  {
   "cell_type": "markdown",
   "metadata": {},
   "source": [
    ">If bugs are not discovered and the chip don't responds to driver function call or the result of work was not what you expected, see [Issue](https://github.com/remotemcu/remcu_examples/issues) and [Troubleshooting Page](https://remotemcu.github.io/troubleshooting-page)"
   ]
  },
  {
   "cell_type": "markdown",
   "metadata": {},
   "source": [
    "### ADC example\n",
    "![adc stm32f0x](img/adc_scheme.png)\n",
    ">The code below is based on **ADC_BasicExample** ([main.c](STM32F0xx_StdPeriph_Examples/ADC/ADC_BasicExample/main.c)) example of [Standard Peripheral Library(SPL) for STM32F0x line](https://www.st.com/en/embedded-software/stsw-stm32048.html)"
   ]
  },
  {
   "cell_type": "code",
   "execution_count": null,
   "metadata": {},
   "outputs": [],
   "source": [
    "#GPIOC Periph clock enable:\n",
    "remcu.RCC_APB2PeriphClockCmd(RCC_APB2Periph_ADC1, ENABLE)\n",
    "\n",
    "#enable ADC system clock:\n",
    "remcu.RCC_AHBPeriphClockCmd(RCC_AHBPeriph_GPIOA, ENABLE)\n",
    "\n",
    "GPIO_InitStructure = GPIO_InitTypeDef()\n",
    "\n",
    "#/* Configure PA.05 (ADC Channel5) as analog input -------------------------*/\n",
    "GPIO_InitStructure.GPIO_Pin = GPIO_Pin_5\n",
    "GPIO_InitStructure.GPIO_PuPd = GPIO_PuPd_NOPULL\n",
    "GPIO_InitStructure.GPIO_Mode = GPIO_Mode_AN\n",
    "remcu.GPIO_Init(GPIOA, GPIO_InitStructure.ref())\n",
    "\n",
    "#define ADC base config:\n",
    "\n",
    "#/* ADCs DeInit */  \n",
    "remcu.ADC_DeInit(ADC1);\n",
    "\n",
    "ADC_InitStructure = ADC_InitTypeDef()\n",
    "\n",
    "#/* Initialize ADC structure */\n",
    "remcu.ADC_StructInit(ADC_InitStructure.ref())\n",
    "\n",
    "#/* Configure the ADC1 in continuous mode with a resolution equal to 12 bits  */\n",
    "ADC_InitStructure.ADC_Resolution = ADC_Resolution_12b\n",
    "ADC_InitStructure.ADC_ContinuousConvMode = ENABLE\n",
    "ADC_InitStructure.ADC_ExternalTrigConvEdge = ADC_ExternalTrigConvEdge_None\n",
    "ADC_InitStructure.ADC_DataAlign = ADC_DataAlign_Right\n",
    "ADC_InitStructure.ADC_ScanDirection = ADC_ScanDirection_Upward\n",
    "remcu.ADC_Init(ADC1,  ADC_InitStructure.ref());\n",
    "\n",
    "#/* ADC1 regular channel5 configuration */ \n",
    "remcu.ADC_ChannelConfig(ADC1, ADC_Channel_5, ADC_SampleTime_239_5Cycles)\n",
    "\n",
    "#/* ADC Calibration */\n",
    "remcu.ADC_GetCalibrationFactor(ADC1)\n",
    "\n",
    "#/* Enable ADC1 */\n",
    "remcu.ADC_Cmd(ADC1, ENABLE)\n",
    "\n",
    "#/* Check the end of ADC1 reset calibration register */\n",
    "while remcu.ADC_GetFlagStatus(ADC1, ADC_FLAG_ADRDY) == 0: pass\n",
    "\n",
    "#/* Start ADC1 Software Conversion */ \n",
    "remcu.ADC_StartOfConversion(ADC1)"
   ]
  },
  {
   "cell_type": "markdown",
   "metadata": {},
   "source": [
    "Start conversion and read ADC value:"
   ]
  },
  {
   "cell_type": "code",
   "execution_count": null,
   "metadata": {},
   "outputs": [],
   "source": [
    "def ADC_value():\n",
    "    #// start conversion (will be endless as we are in continuous mode)\n",
    "    while remcu.ADC_GetFlagStatus(ADC1, ADC_FLAG_EOC) == RESET: pass\n",
    "    return remcu.ADC_GetConversionValue(ADC1)\n",
    "\n",
    "ADC_value()"
   ]
  },
  {
   "cell_type": "markdown",
   "metadata": {},
   "source": [
    "Plug a potentiometer into the PA5 pin and run the code below.\n",
    "Rotate the shaft and you will get the voltage versus time chart:\n",
    ">First install [matplotlib](https://github.com/matplotlib/jupyter-matplotlib) or make sure you have it"
   ]
  },
  {
   "cell_type": "code",
   "execution_count": null,
   "metadata": {},
   "outputs": [],
   "source": [
    "%matplotlib notebook\n",
    "import matplotlib.pyplot as plt\n",
    "\n",
    "print(\"Result: \")\n",
    "\n",
    "fig = plt.figure()\n",
    "ax = fig.add_subplot(111)\n",
    "plt.ion()\n",
    "\n",
    "fig.show()\n",
    "fig.canvas.draw()\n",
    "\n",
    "ADC = []\n",
    "for i in range(0,150):\n",
    "    ADC.append(ADC_value())\n",
    "    ax.clear()\n",
    "    ax.plot(ADC)\n",
    "    fig.canvas.draw()"
   ]
  },
  {
   "cell_type": "markdown",
   "metadata": {},
   "source": [
    "<details>\n",
    "  <summary>Result<b>(click to show)</b></summary>\n",
    "\n",
    "![Image](img/f103_adc.gif)\n",
    "</details>"
   ]
  },
  {
   "cell_type": "code",
   "execution_count": null,
   "metadata": {},
   "outputs": [],
   "source": []
  },
  {
   "cell_type": "code",
   "execution_count": null,
   "metadata": {},
   "outputs": [],
   "source": []
  },
  {
   "cell_type": "markdown",
   "metadata": {},
   "source": [
    "Finalizing work with REMCU Library:"
   ]
  },
  {
   "cell_type": "code",
   "execution_count": null,
   "metadata": {},
   "outputs": [],
   "source": [
    "remcu.remcu_disconnect()"
   ]
  },
  {
   "cell_type": "markdown",
   "metadata": {},
   "source": [
    "### Extra Utility Function"
   ]
  },
  {
   "cell_type": "markdown",
   "metadata": {},
   "source": [
    "The ***ReMCU_getVersion***(see [“remcu.h”](remcu_include/remcu.h) or [API reference](https://remotemcu.github.io/api-v1-0)) function returns a pointer to a char array containing information about the REMCU lib versions"
   ]
  },
  {
   "cell_type": "code",
   "execution_count": null,
   "metadata": {},
   "outputs": [],
   "source": [
    "print(ctypes.c_char_p(remcu.remcu_getVersion()).value)"
   ]
  }
 ],
 "metadata": {
  "kernelspec": {
   "display_name": "Python 2",
   "language": "python",
   "name": "python2"
  },
  "language_info": {
   "codemirror_mode": {
    "name": "ipython",
    "version": 2
   },
   "file_extension": ".py",
   "mimetype": "text/x-python",
   "name": "python",
   "nbconvert_exporter": "python",
   "pygments_lexer": "ipython2",
   "version": "2.7.16"
  }
 },
 "nbformat": 4,
 "nbformat_minor": 2
}
