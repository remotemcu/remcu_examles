{
 "cells": [
  {
   "cell_type": "markdown",
   "metadata": {},
   "source": [
    "# C++ Cling Examples for STM32L053Nucleo\n",
    "\n",
    "![Image](img/head.png)"
   ]
  },
  {
   "cell_type": "markdown",
   "metadata": {},
   "source": [
    "Load [REMCU](https://remotemcu.github.io) shared libray"
   ]
  },
  {
   "cell_type": "code",
   "execution_count": null,
   "metadata": {},
   "outputs": [],
   "source": [
    ".L libremcu"
   ]
  },
  {
   "cell_type": "markdown",
   "metadata": {},
   "source": [
    "Add path with header files"
   ]
  },
  {
   "cell_type": "code",
   "execution_count": null,
   "metadata": {},
   "outputs": [],
   "source": [
    ".I remcu_include/"
   ]
  },
  {
   "cell_type": "markdown",
   "metadata": {},
   "source": [
    "Including necessary header files. The [“remcu.h”](remcu_include/remcu.h) header must be always included before any MCU header files."
   ]
  },
  {
   "cell_type": "code",
   "execution_count": null,
   "metadata": {
    "scrolled": true
   },
   "outputs": [],
   "source": [
    "#include \"remcu.h\"\n",
    "#include \"stm32l0xx_hal.h\"\n",
    "#include \"stm32l0xx_ll_bus.h\""
   ]
  },
  {
   "cell_type": "markdown",
   "metadata": {},
   "source": [
    "Connection to a debug server. The [**REMCU**](https://remotemcu.github.io/) library is able to work with [OpenOCD](https://github.com/ilg-archived/openocd/releases/tag/v0.10.0-12-20190422) or [GDB server](https://atollic.com/resources/download/).\n",
    "There is using the [remcu_connect2OpenOCD](https://remotemcu.github.io/api-v1-0#remcu_getVersion) function for connecting to the OpenOcd server. The functions have the same set of parameters. The first parameter is an IP address of the debug server. The second one is a port of the debug server. For instance, OpenOCD server print the port in log messages. The third parameter is a connection timeout. Upon a successful connection, the function returns the “true” value, otherwise, it returns “false”.\n",
    "\n",
    "> Detailed description of other REMCU function you see in [“remcu.h”](remcu_include/remcu.h) or [API reference](https://remotemcu.github.io/api-v1-0)\n",
    "\n",
    "Before that, plug stm32 board with debugger to PC\n",
    "\n",
    "run openocd utility in command line:\n",
    "```\n",
    "openocd -f board/stm32l0discovery.cfg\n",
    "```\n",
    "Result:\n",
    "![Image](img/openocd_unix.png)"
   ]
  },
  {
   "cell_type": "code",
   "execution_count": null,
   "metadata": {},
   "outputs": [],
   "source": [
    "const char * debug_server_ip = \"localhost\";\n",
    "const uint16_t default_openocd_port = 6666;\n",
    "const int timeout_sec = 3; // It can not be negative\n",
    "bool connection = false;"
   ]
  },
  {
   "cell_type": "code",
   "execution_count": null,
   "metadata": {},
   "outputs": [],
   "source": [
    "connection = remcu_connect2OpenOCD(debug_server_ip, default_openocd_port, timeout_sec)"
   ]
  },
  {
   "cell_type": "markdown",
   "metadata": {},
   "source": [
    "If you use GDB server (either OpenOCD or ST-Link GDB server or Jlink GDB server  etc.), you uncomment code below and run it:\n",
    "<details>\n",
    "  <summary> Jlink windows. Where the port is written <b> (click here)</b></summary>\n",
    " \n",
    "<img src=\"https://raw.githubusercontent.com/remotemcu/remcu_examples/master/wiki/img/jlink.png\" >\n",
    "<img src=\"https://raw.githubusercontent.com/remotemcu/remcu_examples/master/wiki/img/jlink2.png\" >\n",
    "</details>  \n",
    "<details>\n",
    "  <summary> ST link GDB windows. Where the port is written<b> (click here)</b></summary>\n",
    "\n",
    "<img src=\"https://raw.githubusercontent.com/remotemcu/remcu_examples/master/wiki/img/run-stling-gdb.png\">\n",
    "</details>"
   ]
  },
  {
   "cell_type": "code",
   "execution_count": null,
   "metadata": {},
   "outputs": [],
   "source": [
    "//const uint16_t default_openocd_gdb_port = 3333;\n",
    "//const uint16_t default_jlink_port = 2331;\n",
    "//const uint16_t default_stlink_port = 61234;\n",
    "//const uint16_t custom_port = ...;\n",
    "//connection = remcu_connect2GDB(debug_server_ip, default_openocd_gdb_port /*default_jlink_port*/ /*default_stlink_port*/, timeout_sec)"
   ]
  },
  {
   "cell_type": "code",
   "execution_count": null,
   "metadata": {},
   "outputs": [],
   "source": [
    "if(connection == false){\n",
    "    fprintf(stderr, \"1. Check connection to debug server\\n\");\n",
    "    fprintf(stderr, \"2. Check debug server running\\n\");\n",
    "    fprintf(stderr, \"3. Check the debugged MCU is correct\\n\");\n",
    "    exit(1);\n",
    "}"
   ]
  },
  {
   "cell_type": "markdown",
   "metadata": {},
   "source": [
    "If connection were failed and the function returned false. See [Issue](https://github.com/remotemcu/remcu_examples/issues) and [Troubleshooting Page](https://remotemcu.github.io/troubleshooting-page) \n",
    "    \n",
    "If connection were success... Jupyter console output:\n",
    "![Image](img/success_connection_for_unix.png)"
   ]
  },
  {
   "cell_type": "markdown",
   "metadata": {},
   "source": [
    "Reset the MCU (see [“remcu.h”](remcu_include/remcu.h) or [API reference](https://remotemcu.github.io/api-v1-0)):"
   ]
  },
  {
   "cell_type": "code",
   "execution_count": null,
   "metadata": {},
   "outputs": [],
   "source": [
    "remcu_resetRemoteUnit(__HALT)"
   ]
  },
  {
   "cell_type": "markdown",
   "metadata": {},
   "source": [
    "At this stage the microcontroller clock setting is already configured, this is done through SystemInit() function which is called from startup file (startup_stm32f4xx.s) before to branch to application main. To see the default setting of SystemInit() function, refer to remcu_include/system_stm32f4xx.c file"
   ]
  },
  {
   "cell_type": "code",
   "execution_count": null,
   "metadata": {},
   "outputs": [],
   "source": [
    "SystemInit();"
   ]
  },
  {
   "cell_type": "markdown",
   "metadata": {},
   "source": [
    "This sample code shows how to use STM32L0xx GPIO HAL API to toggle PA5 Pin \n",
    "  (connected to LED2, on STM32L0xx_Nucleo board) in an infinite loop.\n",
    "   To proceed, 3 steps are required:\n",
    "  \n",
    " STM32L0xx HAL library initialization:\n",
    "       - Configure the Flash prefetch, Flash preread and Buffer caches\n",
    "       - In the default implementation , SysTick timer is configured as main source \n",
    "         of time base. It is used to generate interrupts at 1ms basis.\n",
    "       - Low Level Initialization"
   ]
  },
  {
   "cell_type": "code",
   "execution_count": null,
   "metadata": {},
   "outputs": [],
   "source": [
    "HAL_Init();"
   ]
  },
  {
   "cell_type": "markdown",
   "metadata": {},
   "source": [
    "### GPIO Example\n",
    "![Image](img/gpio.png)\n",
    ">The code below have been taken from **IO_Toggle** ([main.c](STM32CubeL0_example_projects/NUCLEO-L053R8/Examples/GPIO/GPIO_IOToggle/Src/main.c)) example of [STM32L0 HAL and Low Layer drivers](https://www.st.com/resource/en/user_manual/dm00113898-description-of-stm32l0-hal-and-low-layer-drivers-stmicroelectronics.pdf)"
   ]
  },
  {
   "cell_type": "markdown",
   "metadata": {},
   "source": [
    "Clock enable and configure pins:"
   ]
  },
  {
   "cell_type": "code",
   "execution_count": null,
   "metadata": {},
   "outputs": [],
   "source": [
    "  RCC_ClkInitTypeDef RCC_ClkInitStruct;\n",
    "  RCC_OscInitTypeDef RCC_OscInitStruct;\n",
    "  \n",
    "  /* Enable MSI Oscillator */\n",
    "  RCC_OscInitStruct.OscillatorType = RCC_OSCILLATORTYPE_MSI;\n",
    "  RCC_OscInitStruct.MSIState = RCC_MSI_ON;\n",
    "  RCC_OscInitStruct.MSIClockRange = RCC_MSIRANGE_5;\n",
    "  RCC_OscInitStruct.MSICalibrationValue=0x00;\n",
    "  RCC_OscInitStruct.PLL.PLLState = RCC_PLL_NONE;\n",
    "  HAL_RCC_OscConfig(&RCC_OscInitStruct);\n",
    "  \n",
    "  \n",
    "  /* Select MSI as system clock source and configure the HCLK, PCLK1 and PCLK2 \n",
    "     clocks dividers */\n",
    "  RCC_ClkInitStruct.ClockType = (RCC_CLOCKTYPE_SYSCLK | RCC_CLOCKTYPE_HCLK | RCC_CLOCKTYPE_PCLK1 | RCC_CLOCKTYPE_PCLK2);\n",
    "  RCC_ClkInitStruct.SYSCLKSource = RCC_SYSCLKSOURCE_MSI;\n",
    "  RCC_ClkInitStruct.AHBCLKDivider = RCC_SYSCLK_DIV1;\n",
    "  RCC_ClkInitStruct.APB1CLKDivider = RCC_HCLK_DIV1;  \n",
    "  RCC_ClkInitStruct.APB2CLKDivider = RCC_HCLK_DIV1;  \n",
    "  HAL_RCC_ClockConfig(&RCC_ClkInitStruct, FLASH_LATENCY_0);"
   ]
  },
  {
   "cell_type": "code",
   "execution_count": null,
   "metadata": {},
   "outputs": [],
   "source": [
    "  /* -1- Enable GPIOA Clock (to be able to program the configuration registers) */\n",
    "  //__HAL_RCC_GPIOA_CLK_ENABLE(); - don't use __HAL_RCC_GPIOA_CLK_ENABLE define\n",
    "LL_IOP_GRP1_EnableClock(LL_IOP_GRP1_PERIPH_GPIOA);"
   ]
  },
  {
   "cell_type": "markdown",
   "metadata": {},
   "source": [
    "Configure PA.5 IO in output push-pull mode to drive external LEDs "
   ]
  },
  {
   "cell_type": "code",
   "execution_count": null,
   "metadata": {},
   "outputs": [],
   "source": [
    " GPIO_InitTypeDef  GPIO_InitStruct;  \n",
    "/* -2- */\n",
    "  GPIO_InitStruct.Pin = (GPIO_PIN_5);\n",
    "  GPIO_InitStruct.Mode = GPIO_MODE_OUTPUT_PP;\n",
    "  GPIO_InitStruct.Pull = GPIO_PULLUP;\n",
    "  GPIO_InitStruct.Speed = GPIO_SPEED_FREQ_HIGH  ;\n",
    "  \n",
    "  HAL_GPIO_Init(GPIOA, &GPIO_InitStruct); "
   ]
  },
  {
   "cell_type": "markdown",
   "metadata": {},
   "source": [
    "Flash leds on:"
   ]
  },
  {
   "cell_type": "code",
   "execution_count": null,
   "metadata": {},
   "outputs": [],
   "source": [
    "HAL_GPIO_WritePin(GPIOA, GPIO_PIN_5, GPIO_PIN_SET)"
   ]
  },
  {
   "cell_type": "markdown",
   "metadata": {},
   "source": [
    "<details>\n",
    "  <summary><b>Result(click to show)</b></summary>\n",
    "\n",
    "![Image](img/led_on.png)\n",
    "</details>"
   ]
  },
  {
   "cell_type": "markdown",
   "metadata": {},
   "source": [
    "Flash leds off:"
   ]
  },
  {
   "cell_type": "code",
   "execution_count": null,
   "metadata": {},
   "outputs": [],
   "source": [
    "HAL_GPIO_WritePin(GPIOA, GPIO_PIN_5, GPIO_PIN_RESET)"
   ]
  },
  {
   "cell_type": "markdown",
   "metadata": {},
   "source": [
    "If it didn’t happen, you can use the utility functions to detect errors..."
   ]
  },
  {
   "cell_type": "markdown",
   "metadata": {},
   "source": [
    "### Utility Functions"
   ]
  },
  {
   "cell_type": "markdown",
   "metadata": {},
   "source": [
    "The ***remcu_getErrorCount***(see [“remcu.h”](remcu_include/remcu.h) or [API reference](https://remotemcu.github.io/api-v1-0)) function returns the number of errors that occurred after connection:"
   ]
  },
  {
   "cell_type": "code",
   "execution_count": null,
   "metadata": {},
   "outputs": [],
   "source": [
    "remcu_getErrorCount()"
   ]
  },
  {
   "cell_type": "markdown",
   "metadata": {},
   "source": [
    "If no error occurred, result ***0***, otherwise see [Issue](https://github.com/remotemcu/remcu_examples/issues) and [Troubleshooting Page](https://remotemcu.github.io/troubleshooting-page)\n",
    "\n",
    "The ***remcu_isConnected***(see [“remcu.h”](remcu_include/remcu.h) or [API reference](https://remotemcu.github.io/api-v1-0)) function indicates status of the current debug server connection:"
   ]
  },
  {
   "cell_type": "code",
   "execution_count": null,
   "metadata": {},
   "outputs": [],
   "source": [
    "remcu_isConnected()"
   ]
  },
  {
   "cell_type": "markdown",
   "metadata": {},
   "source": [
    "Result: connected ***true*** , disconnected ***false***\n",
    "\n",
    "Some of debug adapters can have hardware problems. The ***remcu_debuggerTest*** (see [“remcu.h”](remcu_include/remcu.h) or [API reference](https://remotemcu.github.io/api-v1-0)) function enables to detect the such adapters. The function returns a null pointer if the test is successful:"
   ]
  },
  {
   "cell_type": "code",
   "execution_count": null,
   "metadata": {},
   "outputs": [],
   "source": [
    "remcu_debuggerTest()"
   ]
  },
  {
   "cell_type": "markdown",
   "metadata": {},
   "source": [
    "If no error occurred, result ***nullptr***, otherwise see [Issue](https://github.com/remotemcu/remcu_examples/issues) and [Troubleshooting Page](https://remotemcu.github.io/troubleshooting-page)"
   ]
  },
  {
   "cell_type": "markdown",
   "metadata": {},
   "source": [
    ">If bugs are not discovered and the chip don't responds to driver function call or the result of work was not what you expected, see [Issue](https://github.com/remotemcu/remcu_examples/issues) and [Troubleshooting Page](https://remotemcu.github.io/troubleshooting-page)\n"
   ]
  },
  {
   "cell_type": "markdown",
   "metadata": {},
   "source": [
    "### PWM example\n",
    "![Image](img/pwm_wave.png)\n",
    "This example shows how to configure the TIM peripheral in PWM (Pulse Width Modulation) mode.\n",
    "\n",
    ">The code below have been based on **TIM_PWM_Output** ([main.c](STM32CubeL0_example_projects/NUCLEO-L053R8/Examples/TIM/TIM_PWMOutput/Src/main.c)) example of [STM32L0 HAL and Low Layer drivers](https://www.st.com/resource/en/user_manual/dm00113898-description-of-stm32l0-hal-and-low-layer-drivers-stmicroelectronics.pdf)"
   ]
  },
  {
   "cell_type": "markdown",
   "metadata": {},
   "source": [
    "GPIOA Configuration: TIM2 CH1 (PA5) in output, push-pull, alternate function mode"
   ]
  },
  {
   "cell_type": "code",
   "execution_count": null,
   "metadata": {},
   "outputs": [],
   "source": [
    "  GPIO_InitStruct.Mode = GPIO_MODE_AF_PP;\n",
    "  GPIO_InitStruct.Pull = GPIO_PULLDOWN;\n",
    "  GPIO_InitStruct.Speed = GPIO_SPEED_FREQ_VERY_HIGH;\n",
    "  GPIO_InitStruct.Alternate = GPIO_AF5_TIM2;\n",
    "  \n",
    "  GPIO_InitStruct.Pin = GPIO_PIN_5;\n",
    "  HAL_GPIO_Init(GPIOA, &GPIO_InitStruct);"
   ]
  },
  {
   "cell_type": "markdown",
   "metadata": {},
   "source": [
    "Enable the timer peripheral clock:"
   ]
  },
  {
   "cell_type": "code",
   "execution_count": null,
   "metadata": {},
   "outputs": [],
   "source": [
    "LL_APB1_GRP1_EnableClock(LL_APB1_GRP1_PERIPH_TIM2);"
   ]
  },
  {
   "cell_type": "markdown",
   "metadata": {},
   "source": [
    "Configuration of the TIM peripheral in PWM (pulse width modulation) mode.\n",
    "\n",
    "The TIM2CLK frequency is set to SystemCoreClock  (Hz), to get TIM2 counter\n",
    "clock at 16 MHz the Prescaler is computed as following:\n",
    "   - Prescaler = (TIM2CLK / TIM2 counter clock) - 1\n",
    "\n",
    "SystemCoreClock is set to 32 MHz for STM32L0xx Devices.\n",
    "\n",
    "The TIM2 generates 4 PWM signals at 10 KHz:\n",
    "\n",
    "    TIM2_Output Frequency = TIM2 counter clock/(ARR + 1)\n",
    "                          = 16 MHz / 1600\n",
    "                          = 10 KHz\n",
    "                        \n",
    "The TIM2 CCR1 register value is equal to 1200, so the TIM2 Channel 1 generates a \n",
    "PWM signal with a frequency equal to 10 KHz and a duty cycle equal to 75%:\n",
    "\n",
    "    TIM2 Channel1 duty cycle = (TIM2_CCR1/ TIM2_ARR + 1)* 100 = 75%\n",
    "    \n",
    "Initialize TIMx peripheral as follow:\n",
    "+ Prescaler = (SystemCoreClock)/160000\n",
    "+ Period = 1600  (to have an output frequency equal to 10 KHz) - PERIOD_VALUE \n",
    "+ ClockDivision = 0\n",
    "+ Counter direction = Up"
   ]
  },
  {
   "cell_type": "code",
   "execution_count": null,
   "metadata": {},
   "outputs": [],
   "source": [
    "#define  PERIOD_VALUE       (1600 - 1)  /* Period Value  */\n",
    "#define  PULSE1_VALUE       1200        /* Capture Compare 1 Value  */\n",
    "\n",
    "/* Timer handler declaration */\n",
    "TIM_HandleTypeDef    TimHandle;\n",
    "\n",
    "/* Timer Output Compare Configuration Structure declaration */\n",
    "TIM_OC_InitTypeDef sConfig;\n",
    "\n",
    "/* Counter Prescaler value */\n",
    "uint32_t uwPrescalerValue = 0;\n",
    "/* Compute the prescaler value to have TIM2 counter clock equal to 16 MHz */\n",
    "uwPrescalerValue = (SystemCoreClock / 160000) - 1;\n",
    "\n",
    "bool errorflag = false;"
   ]
  },
  {
   "cell_type": "code",
   "execution_count": null,
   "metadata": {},
   "outputs": [],
   "source": [
    "TimHandle.Instance = TIM2;\n",
    "\n",
    "TimHandle.Init.Prescaler     = uwPrescalerValue;\n",
    "TimHandle.Init.Period        = PERIOD_VALUE;\n",
    "TimHandle.Init.ClockDivision = 0;\n",
    "TimHandle.Init.CounterMode   = TIM_COUNTERMODE_UP;\n",
    "if(HAL_TIM_PWM_Init(&TimHandle) != HAL_OK)\n",
    "{\n",
    "/* Initialization Error */\n",
    "    fprintf(stderr,\"Error\\n\");\n",
    "    errorflag = true;\n",
    "}\n",
    "\n",
    "/*##-2- Configure the PWM channels #########################################*/ \n",
    "/* Common configuration for all channels */\n",
    "sConfig.OCMode     = TIM_OCMODE_PWM1;\n",
    "sConfig.OCPolarity = TIM_OCPOLARITY_HIGH;\n",
    "sConfig.OCFastMode = TIM_OCFAST_DISABLE;\n",
    "\n",
    "/* Set the pulse value for channel 1 */\n",
    "sConfig.Pulse = PERIOD_VALUE;  \n",
    "if(HAL_TIM_PWM_ConfigChannel(&TimHandle, &sConfig, TIM_CHANNEL_1) != HAL_OK)\n",
    "{\n",
    "/* Configuration Error */\n",
    "    fprintf(stderr,\"Error\\n\");\n",
    "    errorflag = true;\n",
    "}\n",
    "\n",
    "/* Start channel 1 */\n",
    "if(HAL_TIM_PWM_Start(&TimHandle, TIM_CHANNEL_1) != HAL_OK)\n",
    "{\n",
    "/* Starting Error */\n",
    "    fprintf(stderr,\"Error\\n\");\n",
    "    errorflag = true;\n",
    "}"
   ]
  },
  {
   "cell_type": "code",
   "execution_count": null,
   "metadata": {},
   "outputs": [],
   "source": [
    "errorflag"
   ]
  },
  {
   "cell_type": "markdown",
   "metadata": {},
   "source": [
    "Now you can control the duty cycle and adjust the brightness of the board LED.\n",
    "\n",
    "Change the \"**Pulse**\" field of the sConfig structure and run functions below:"
   ]
  },
  {
   "cell_type": "code",
   "execution_count": null,
   "metadata": {},
   "outputs": [],
   "source": [
    "sConfig.Pulse = 0;\n",
    "if(HAL_TIM_PWM_ConfigChannel(&TimHandle, &sConfig, TIM_CHANNEL_1) != HAL_OK)\n",
    "{\n",
    "/* Configuration Error */\n",
    "    fprintf(stderr,\"Error\\n\");\n",
    "    errorflag = true;\n",
    "}\n",
    "/* Start channel 1 */\n",
    "if(HAL_TIM_PWM_Start(&TimHandle, TIM_CHANNEL_1) != HAL_OK)\n",
    "{\n",
    "/* Starting Error */\n",
    "    fprintf(stderr,\"Error\\n\");\n",
    "    errorflag = true;\n",
    "}"
   ]
  },
  {
   "cell_type": "markdown",
   "metadata": {},
   "source": [
    "Create the slider elements to easily change  the brightness of the board LED.\n",
    "> First install [**xwidgets**](https://github.com/jupyter-xeus/xwidgets) or make sure you have it\n",
    "<details>\n",
    "  <summary>The kernel of notebook should be  <b>C++14</b> (clck here)</summary>\n",
    "    \n",
    "![Image](img/Cpp14.png)  \n",
    "\n",
    "</details>"
   ]
  },
  {
   "cell_type": "code",
   "execution_count": null,
   "metadata": {
    "scrolled": true
   },
   "outputs": [],
   "source": [
    "#include \"xwidgets/xslider.hpp\"\n",
    "xw::slider<int> sliderBrightness_Green;\n",
    "\n",
    "sliderBrightness_Green.min = 0;\n",
    "sliderBrightness_Green.max = PERIOD_VALUE;\n",
    "\n",
    "sliderBrightness_Green.display();\n",
    "\n",
    "XOBSERVE(sliderBrightness_Green, value, [](const auto& Brightness) {\n",
    "    sConfig.Pulse = Brightness.value;\n",
    "    if(HAL_TIM_PWM_ConfigChannel(&TimHandle, &sConfig, TIM_CHANNEL_1) != HAL_OK)\n",
    "    {\n",
    "    /* Configuration Error */\n",
    "        fprintf(stderr,\"Error\\n\");\n",
    "        errorflag = true;\n",
    "    }\n",
    "    /* Start channel 1 */\n",
    "    if(HAL_TIM_PWM_Start(&TimHandle, TIM_CHANNEL_1) != HAL_OK)\n",
    "    {\n",
    "    /* Starting Error */\n",
    "        fprintf(stderr,\"Error\\n\");\n",
    "        errorflag = true;\n",
    "    }\n",
    "});"
   ]
  },
  {
   "cell_type": "code",
   "execution_count": null,
   "metadata": {},
   "outputs": [],
   "source": []
  },
  {
   "cell_type": "markdown",
   "metadata": {},
   "source": [
    "### Extra Utility Function"
   ]
  },
  {
   "cell_type": "markdown",
   "metadata": {},
   "source": [
    "The ***ReMCU_getVersion***(see [“remcu.h”](remcu_include/remcu.h) or [API reference](https://remotemcu.github.io/api-v1-0)) function returns a pointer to a char array containing information about the REMCU lib versions"
   ]
  },
  {
   "cell_type": "code",
   "execution_count": null,
   "metadata": {},
   "outputs": [],
   "source": [
    "remcu_getVersion()"
   ]
  },
  {
   "cell_type": "markdown",
   "metadata": {},
   "source": [
    "The ***ReMCU_disconnect***(see [“remcu.h”](remcu_include/remcu.h) or [API reference](https://remotemcu.github.io/api-v1-0)) function disconnects from the debug server. It is finalizing work with REMCU Library."
   ]
  },
  {
   "cell_type": "code",
   "execution_count": null,
   "metadata": {},
   "outputs": [],
   "source": [
    "remcu_disconnect()"
   ]
  }
 ],
 "metadata": {
  "kernelspec": {
   "display_name": "C++14",
   "language": "C++14",
   "name": "xcpp14"
  },
  "language_info": {
   "codemirror_mode": "text/x-c++src",
   "file_extension": ".cpp",
   "mimetype": "text/x-c++src",
   "name": "c++",
   "version": "-std=c++14"
  }
 },
 "nbformat": 4,
 "nbformat_minor": 2
}
