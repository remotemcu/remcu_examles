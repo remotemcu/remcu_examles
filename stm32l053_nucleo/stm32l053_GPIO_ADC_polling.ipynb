{
 "cells": [
  {
   "cell_type": "markdown",
   "metadata": {},
   "source": [
    "# C++ Cling Examples for STM32L053Nucleo\n",
    "\n",
    "![Image](img/head.png)"
   ]
  },
  {
   "cell_type": "markdown",
   "metadata": {},
   "source": [
    "Load [REMCU](https://remotemcu.github.io) shared libray"
   ]
  },
  {
   "cell_type": "code",
   "execution_count": null,
   "metadata": {},
   "outputs": [],
   "source": [
    ".L libremcu"
   ]
  },
  {
   "cell_type": "markdown",
   "metadata": {},
   "source": [
    "Add path with header files"
   ]
  },
  {
   "cell_type": "code",
   "execution_count": null,
   "metadata": {},
   "outputs": [],
   "source": [
    ".I remcu_include/"
   ]
  },
  {
   "cell_type": "markdown",
   "metadata": {},
   "source": [
    "Including necessary header files. The [“remcu.h”](remcu_include/remcu.h) header must be always included before any MCU header files."
   ]
  },
  {
   "cell_type": "code",
   "execution_count": null,
   "metadata": {
    "scrolled": true
   },
   "outputs": [],
   "source": [
    "#include \"remcu.h\"\n",
    "#include \"stm32l0xx_hal.h\"\n",
    "#include \"stm32l0xx_ll_bus.h\""
   ]
  },
  {
   "cell_type": "markdown",
   "metadata": {},
   "source": [
    "Connection to a debug server. The [**REMCU**](https://remotemcu.github.io/) library is able to work with [OpenOCD](https://github.com/ilg-archived/openocd/releases/tag/v0.10.0-12-20190422) or [GDB server](https://atollic.com/resources/download/).\n",
    "There is using the [remcu_connect2OpenOCD](https://remotemcu.github.io/api-v1-0#remcu_getVersion) function for connecting to the OpenOcd server. The functions have the same set of parameters. The first parameter is an IP address of the debug server. The second one is a port of the debug server. For instance, OpenOCD server print the port in log messages. The third parameter is a connection timeout. Upon a successful connection, the function returns the “true” value, otherwise, it returns “false”.\n",
    "\n",
    "> Detailed description of other REMCU function you see in [“remcu.h”](remcu_include/remcu.h) or [API reference](https://remotemcu.github.io/api-v1-0)\n",
    "\n",
    "Before that, plug stm32 board with debugger to PC\n",
    "\n",
    "run openocd utility in command line:\n",
    "```\n",
    "openocd -f board/stm32l0discovery.cfg\n",
    "```\n",
    "Result:\n",
    "![Image](img/openocd_unix.png)"
   ]
  },
  {
   "cell_type": "code",
   "execution_count": null,
   "metadata": {},
   "outputs": [],
   "source": [
    "const char * debug_server_ip = \"localhost\";\n",
    "const uint16_t default_openocd_port = 6666;\n",
    "const int timeout_sec = 3; // It can not be negative\n",
    "bool connection = false;"
   ]
  },
  {
   "cell_type": "code",
   "execution_count": null,
   "metadata": {},
   "outputs": [],
   "source": [
    "connection = remcu_connect2OpenOCD(debug_server_ip, default_openocd_port, timeout_sec)"
   ]
  },
  {
   "cell_type": "markdown",
   "metadata": {},
   "source": [
    "If you use GDB server (either OpenOCD or ST-Link GDB server or Jlink GDB server  etc.), you uncomment code below and run it:\n",
    "<details>\n",
    "  <summary> Jlink windows. Where the port is written <b> (click here)</b></summary>\n",
    " \n",
    "<img src=\"https://raw.githubusercontent.com/remotemcu/remcu_examples/master/wiki/img/jlink.png\" >\n",
    "<img src=\"https://raw.githubusercontent.com/remotemcu/remcu_examples/master/wiki/img/jlink2.png\" >\n",
    "</details>  \n",
    "<details>\n",
    "  <summary> ST link GDB windows. Where the port is written<b> (click here)</b></summary>\n",
    "\n",
    "<img src=\"https://raw.githubusercontent.com/remotemcu/remcu_examples/master/wiki/img/run-stling-gdb.png\">\n",
    "</details>"
   ]
  },
  {
   "cell_type": "code",
   "execution_count": null,
   "metadata": {},
   "outputs": [],
   "source": [
    "//const uint16_t default_openocd_gdb_port = 3333;\n",
    "//const uint16_t default_jlink_port = 2331;\n",
    "//const uint16_t default_stlink_port = 61234;\n",
    "//const uint16_t custom_port = ...;\n",
    "//connection = remcu_connect2GDB(debug_server_ip, default_openocd_gdb_port /*default_jlink_port*/ /*default_stlink_port*/, timeout_sec)"
   ]
  },
  {
   "cell_type": "code",
   "execution_count": null,
   "metadata": {},
   "outputs": [],
   "source": [
    "if(connection == false){\n",
    "    fprintf(stderr, \"1. Check connection to debug server\\n\");\n",
    "    fprintf(stderr, \"2. Check debug server running\\n\");\n",
    "    fprintf(stderr, \"3. Check the debugged MCU is correct\\n\");\n",
    "    exit(1);\n",
    "}"
   ]
  },
  {
   "cell_type": "markdown",
   "metadata": {},
   "source": [
    "If connection were failed and the function returned false. See [Issue](https://github.com/remotemcu/remcu_examples/issues) and [Troubleshooting Page](https://remotemcu.github.io/troubleshooting-page) \n",
    "    \n",
    "If connection were success... Jupyter Output:\n",
    "![Image](img/success_connection_for_unix.png)"
   ]
  },
  {
   "cell_type": "markdown",
   "metadata": {},
   "source": [
    "Reset the MCU (see [“remcu.h”](remcu_include/remcu.h) or [API reference](https://remotemcu.github.io/api-v1-0)):"
   ]
  },
  {
   "cell_type": "code",
   "execution_count": null,
   "metadata": {},
   "outputs": [],
   "source": [
    "remcu_resetRemoteUnit(__HALT)"
   ]
  },
  {
   "cell_type": "markdown",
   "metadata": {},
   "source": [
    "At this stage the microcontroller clock setting is already configured, this is done through SystemInit() function which is called from startup file (startup_stm32f4xx.s) before to branch to application main. To see the default setting of SystemInit() function, refer to remcu_include/system_stm32f4xx.c file"
   ]
  },
  {
   "cell_type": "code",
   "execution_count": null,
   "metadata": {},
   "outputs": [],
   "source": [
    "SystemInit();"
   ]
  },
  {
   "cell_type": "markdown",
   "metadata": {},
   "source": [
    "This sample code shows how to use STM32L0xx GPIO HAL API to toggle PA5 Pin (connected to LED2, on STM32L0xx_Nucleo board) in an infinite loop. To proceed, 3 steps are required:\n",
    "\n",
    "STM32L0xx HAL library initialization:\n",
    "\n",
    "   - Configure the Flash prefetch, Flash preread and Buffer caches\n",
    "   - In the default implementation , SysTick timer is configured as main source \n",
    "     of time base. It is used to generate interrupts at 1ms basis.\n",
    "   - Low Level Initialization"
   ]
  },
  {
   "cell_type": "code",
   "execution_count": null,
   "metadata": {},
   "outputs": [],
   "source": [
    "HAL_Init();"
   ]
  },
  {
   "cell_type": "markdown",
   "metadata": {},
   "source": [
    "### GPIO Example\n",
    "![Image](img/gpio.png)\n",
    ">The code below have been taken from **IO_Toggle** ([main.c](STM32CubeL0_example_projects/NUCLEO-L053R8/Examples/GPIO/GPIO_IOToggle/Src/main.c)) example of [STM32L0 HAL and Low Layer drivers](https://www.st.com/resource/en/user_manual/dm00113898-description-of-stm32l0-hal-and-low-layer-drivers-stmicroelectronics.pdf)"
   ]
  },
  {
   "cell_type": "markdown",
   "metadata": {},
   "source": [
    "Clock enable and configure pins:"
   ]
  },
  {
   "cell_type": "code",
   "execution_count": null,
   "metadata": {},
   "outputs": [],
   "source": [
    "  RCC_ClkInitTypeDef RCC_ClkInitStruct;\n",
    "  RCC_OscInitTypeDef RCC_OscInitStruct;\n",
    "  \n",
    "  /* Enable MSI Oscillator */\n",
    "  RCC_OscInitStruct.OscillatorType = RCC_OSCILLATORTYPE_MSI;\n",
    "  RCC_OscInitStruct.MSIState = RCC_MSI_ON;\n",
    "  RCC_OscInitStruct.MSIClockRange = RCC_MSIRANGE_5;\n",
    "  RCC_OscInitStruct.MSICalibrationValue=0x00;\n",
    "  RCC_OscInitStruct.PLL.PLLState = RCC_PLL_NONE;\n",
    "  HAL_RCC_OscConfig(&RCC_OscInitStruct);\n",
    "  \n",
    "  \n",
    "  /* Select MSI as system clock source and configure the HCLK, PCLK1 and PCLK2 \n",
    "     clocks dividers */\n",
    "  RCC_ClkInitStruct.ClockType = (RCC_CLOCKTYPE_SYSCLK | RCC_CLOCKTYPE_HCLK | RCC_CLOCKTYPE_PCLK1 | RCC_CLOCKTYPE_PCLK2);\n",
    "  RCC_ClkInitStruct.SYSCLKSource = RCC_SYSCLKSOURCE_MSI;\n",
    "  RCC_ClkInitStruct.AHBCLKDivider = RCC_SYSCLK_DIV1;\n",
    "  RCC_ClkInitStruct.APB1CLKDivider = RCC_HCLK_DIV1;  \n",
    "  RCC_ClkInitStruct.APB2CLKDivider = RCC_HCLK_DIV1;  \n",
    "  HAL_RCC_ClockConfig(&RCC_ClkInitStruct, FLASH_LATENCY_0);"
   ]
  },
  {
   "cell_type": "code",
   "execution_count": null,
   "metadata": {},
   "outputs": [],
   "source": [
    "  /* -1- Enable GPIOA Clock (to be able to program the configuration registers) */\n",
    "  //__HAL_RCC_GPIOA_CLK_ENABLE(); - don't use __HAL_RCC_GPIOA_CLK_ENABLE define\n",
    "LL_IOP_GRP1_EnableClock(LL_IOP_GRP1_PERIPH_GPIOA);"
   ]
  },
  {
   "cell_type": "markdown",
   "metadata": {},
   "source": [
    "Configure PA.5 IO in output push-pull mode to drive external LEDs "
   ]
  },
  {
   "cell_type": "code",
   "execution_count": null,
   "metadata": {},
   "outputs": [],
   "source": [
    " GPIO_InitTypeDef  GPIO_InitStruct;  \n",
    "/* -2- */\n",
    "  GPIO_InitStruct.Pin = (GPIO_PIN_5);\n",
    "  GPIO_InitStruct.Mode = GPIO_MODE_OUTPUT_PP;\n",
    "  GPIO_InitStruct.Pull = GPIO_PULLUP;\n",
    "  GPIO_InitStruct.Speed = GPIO_SPEED_FREQ_HIGH  ;\n",
    "  \n",
    "  HAL_GPIO_Init(GPIOA, &GPIO_InitStruct); "
   ]
  },
  {
   "cell_type": "markdown",
   "metadata": {},
   "source": [
    "Flash leds on:"
   ]
  },
  {
   "cell_type": "code",
   "execution_count": null,
   "metadata": {},
   "outputs": [],
   "source": [
    "HAL_GPIO_WritePin(GPIOA, GPIO_PIN_5, GPIO_PIN_SET)"
   ]
  },
  {
   "cell_type": "markdown",
   "metadata": {},
   "source": [
    "<details>\n",
    "  <summary><b>Result(click to show)</b></summary>\n",
    "\n",
    "![Image](img/led_on.png)\n",
    "</details>"
   ]
  },
  {
   "cell_type": "markdown",
   "metadata": {},
   "source": [
    "Flash leds off:"
   ]
  },
  {
   "cell_type": "code",
   "execution_count": null,
   "metadata": {},
   "outputs": [],
   "source": [
    "HAL_GPIO_WritePin(GPIOA, GPIO_PIN_5, GPIO_PIN_RESET)"
   ]
  },
  {
   "cell_type": "markdown",
   "metadata": {},
   "source": [
    "If it didn’t happen, you can use the utility functions to detect errors..."
   ]
  },
  {
   "cell_type": "markdown",
   "metadata": {},
   "source": [
    "### Utility Functions"
   ]
  },
  {
   "cell_type": "markdown",
   "metadata": {},
   "source": [
    "The ***remcu_getErrorCount***(see [“remcu.h”](remcu_include/remcu.h) or [API reference](https://remotemcu.github.io/api-v1-0)) function returns the number of errors that occurred after connection:"
   ]
  },
  {
   "cell_type": "code",
   "execution_count": null,
   "metadata": {},
   "outputs": [],
   "source": [
    "remcu_getErrorCount()"
   ]
  },
  {
   "cell_type": "markdown",
   "metadata": {},
   "source": [
    "If no error occurred, result ***0***, otherwise see [Issue](https://github.com/remotemcu/remcu_examples/issues) and [Troubleshooting Page](https://remotemcu.github.io/troubleshooting-page)\n",
    "\n",
    "The ***remcu_isConnected***(see [“remcu.h”](remcu_include/remcu.h) or [API reference](https://remotemcu.github.io/api-v1-0)) function indicates status of the current debug server connection:"
   ]
  },
  {
   "cell_type": "code",
   "execution_count": null,
   "metadata": {},
   "outputs": [],
   "source": [
    "remcu_isConnected()"
   ]
  },
  {
   "cell_type": "markdown",
   "metadata": {},
   "source": [
    "Result: connected ***true*** , disconnected ***false***\n",
    "\n",
    "Some of debug adapters can have hardware problems. The ***remcu_debuggerTest*** (see [“remcu.h”](remcu_include/remcu.h) or [API reference](https://remotemcu.github.io/api-v1-0)) function enables to detect the such adapters. The function returns a null pointer if the test is successful:"
   ]
  },
  {
   "cell_type": "code",
   "execution_count": null,
   "metadata": {},
   "outputs": [],
   "source": [
    "remcu_debuggerTest()"
   ]
  },
  {
   "cell_type": "markdown",
   "metadata": {},
   "source": [
    "If no error occurred, result ***nullptr***, otherwise see [Issue](https://github.com/remotemcu/remcu_examples/issues) and [Troubleshooting Page](https://remotemcu.github.io/troubleshooting-page)"
   ]
  },
  {
   "cell_type": "markdown",
   "metadata": {},
   "source": [
    ">If bugs are not discovered and the chip don't responds to driver function call or the result of work was not what you expected, see [Issue](https://github.com/remotemcu/remcu_examples/issues) and [Troubleshooting Page](https://remotemcu.github.io/troubleshooting-page)\n"
   ]
  },
  {
   "cell_type": "code",
   "execution_count": null,
   "metadata": {},
   "outputs": [],
   "source": []
  },
  {
   "cell_type": "markdown",
   "metadata": {},
   "source": [
    "### ADC example\n",
    "![adc_head](img/adc_head.png )\n",
    ">The code below is based on **ADC_RegularConversion_Polling** ([main.c](STM32CubeL0_example_projects/NUCLEO-L053R8/Examples/ADC/ADC_RegularConversion_Polling/Src/main.c)) example of [STM32L0 HAL and Low Layer drivers](https://www.st.com/resource/en/user_manual/dm00113898-description-of-stm32l0-hal-and-low-layer-drivers-stmicroelectronics.pdf)"
   ]
  },
  {
   "cell_type": "markdown",
   "metadata": {},
   "source": [
    "clock config for ADC:"
   ]
  },
  {
   "cell_type": "code",
   "execution_count": null,
   "metadata": {},
   "outputs": [],
   "source": [
    "#include \"stm32l0xx_ll_rcc.h\"\n",
    "#include \"stm32l0xx_ll_system.h\"\n",
    "\n",
    "/* Set APB1 & APB2 prescaler*/\n",
    "LL_RCC_SetAPB1Prescaler(LL_RCC_APB1_DIV_1);\n",
    "LL_RCC_SetAPB2Prescaler(LL_RCC_APB2_DIV_1);"
   ]
  },
  {
   "cell_type": "markdown",
   "metadata": {},
   "source": [
    "enable ADC system clock:"
   ]
  },
  {
   "cell_type": "code",
   "execution_count": null,
   "metadata": {},
   "outputs": [],
   "source": [
    " /* Enable ADC clock (core clock) */\n",
    "  LL_APB2_GRP1_EnableClock(LL_APB2_GRP1_PERIPH_ADC1);"
   ]
  },
  {
   "cell_type": "markdown",
   "metadata": {},
   "source": [
    "GPIOA Periph clock enable:"
   ]
  },
  {
   "cell_type": "code",
   "execution_count": null,
   "metadata": {},
   "outputs": [],
   "source": [
    "  /* Enable GPIO Clock */\n",
    "  LL_IOP_GRP1_EnableClock(LL_IOP_GRP1_PERIPH_GPIOA);"
   ]
  },
  {
   "cell_type": "markdown",
   "metadata": {},
   "source": [
    "Configure PA.00 (ADC Channel0) as analog input:"
   ]
  },
  {
   "cell_type": "code",
   "execution_count": null,
   "metadata": {},
   "outputs": [],
   "source": [
    "GPIO_InitStruct.Pin = GPIO_PIN_0;\n",
    "GPIO_InitStruct.Mode = GPIO_MODE_ANALOG;\n",
    "GPIO_InitStruct.Pull = GPIO_NOPULL;\n",
    "HAL_GPIO_Init(GPIOA, &GPIO_InitStruct);"
   ]
  },
  {
   "cell_type": "code",
   "execution_count": null,
   "metadata": {},
   "outputs": [],
   "source": [
    "bool errorflag = false;\n",
    "\n",
    "/* ADC handle declaration */\n",
    "ADC_HandleTypeDef             AdcHandle;\n",
    "\n",
    "/* ADC channel configuration structure declaration */\n",
    "ADC_ChannelConfTypeDef        adcConfig;\n",
    "\n",
    "uint32_t uwADCxConvertedValue = 0;"
   ]
  },
  {
   "cell_type": "markdown",
   "metadata": {},
   "source": [
    "#####  Initialize ADC peripheral \n",
    "\n",
    "   *  Instance                  = ADC1.\n",
    "   *  OversamplingMode          = Disabled\n",
    "   *  ClockPrescaler            = PCLK clock with no division.\n",
    "   *  LowPowerAutoPowerOff      = Disabled (For this exemple continuous mode is enabled with software start)\n",
    "   *  LowPowerFrequencyMode     = Enabled (To be enabled only if ADC clock is lower than 2.8MHz) \n",
    "   *  LowPowerAutoWait          = Disabled (New conversion starts only when the previous conversion is completed)       \n",
    "   *  Resolution                = 12 bit (increased to 16 bit with oversampler)\n",
    "   *  SamplingTime              = 7.5 cycles od ADC clock.\n",
    "   *  ScanConvMode              = Forward\n",
    "   *  DataAlign                 = Right\n",
    "   *  ContinuousConvMode        = Enabled\n",
    "   *  DiscontinuousConvMode     = Disabled\n",
    "   *  ExternalTrigConvEdge      = None (Software start)\n",
    "   *  EOCSelection              = End Of Conversion event\n",
    "   *  DMAContinuousRequests     = DISABLE"
   ]
  },
  {
   "cell_type": "code",
   "execution_count": null,
   "metadata": {},
   "outputs": [],
   "source": [
    "  AdcHandle.Instance = ADC1;\n",
    "  \n",
    "  AdcHandle.Init.OversamplingMode      = DISABLE;\n",
    "  \n",
    "  AdcHandle.Init.ClockPrescaler        = ADC_CLOCK_SYNC_PCLK_DIV1;\n",
    "  AdcHandle.Init.LowPowerAutoPowerOff  = DISABLE;\n",
    "  AdcHandle.Init.LowPowerFrequencyMode = ENABLE;\n",
    "  AdcHandle.Init.LowPowerAutoWait      = DISABLE;\n",
    "    \n",
    "  AdcHandle.Init.Resolution            = ADC_RESOLUTION_12B;\n",
    "  AdcHandle.Init.SamplingTime          = ADC_SAMPLETIME_7CYCLES_5;\n",
    "  AdcHandle.Init.ScanConvMode          = ADC_SCAN_DIRECTION_FORWARD;\n",
    "  AdcHandle.Init.DataAlign             = ADC_DATAALIGN_RIGHT;\n",
    "  AdcHandle.Init.ContinuousConvMode    = ENABLE;\n",
    "  AdcHandle.Init.DiscontinuousConvMode = DISABLE;\n",
    "  AdcHandle.Init.ExternalTrigConvEdge  = ADC_EXTERNALTRIGCONVEDGE_NONE;\n",
    "  AdcHandle.Init.EOCSelection          = ADC_EOC_SINGLE_CONV;\n",
    "  AdcHandle.Init.DMAContinuousRequests = DISABLE;\n",
    " \n",
    "  /* Initialize ADC peripheral according to the passed parameters */\n",
    "  if (HAL_ADC_Init(&AdcHandle) != HAL_OK)\n",
    "  {\n",
    "    fprintf(stderr,\"Error\\n\");\n",
    "    errorflag = true;\n",
    "  }\n",
    "  \n",
    "  \n",
    "  /* ### - 2 - Start calibration ############################################ */\n",
    "  if (HAL_ADCEx_Calibration_Start(&AdcHandle, ADC_SINGLE_ENDED) != HAL_OK)\n",
    "  {\n",
    "    fprintf(stderr,\"Error\\n\");\n",
    "    errorflag = true;\n",
    "  }"
   ]
  },
  {
   "cell_type": "markdown",
   "metadata": {},
   "source": [
    "##### Channel configuration \n",
    "  * Select Channel 0 to be converted"
   ]
  },
  {
   "cell_type": "code",
   "execution_count": null,
   "metadata": {},
   "outputs": [],
   "source": [
    "  adcConfig.Channel = ADC_CHANNEL_0;    \n",
    "  if (HAL_ADC_ConfigChannel(&AdcHandle, &adcConfig) != HAL_OK)\n",
    "  {\n",
    "    fprintf(stderr,\"Error\\n\");\n",
    "    errorflag = true;\n",
    "  }\n",
    "  \n",
    " /*##- 4- Start the conversion process #######################################*/  \n",
    "  if(HAL_ADC_Start(&AdcHandle) != HAL_OK)\n",
    "  {\n",
    "    /* Start Conversation Error */\n",
    "    fprintf(stderr,\"Error\\n\");\n",
    "    errorflag = true;\n",
    "  }"
   ]
  },
  {
   "cell_type": "markdown",
   "metadata": {},
   "source": [
    "##### Wait for the end of conversion \n",
    "  Before starting a new conversion, you need to check the current state of\n",
    "         the peripheral; if it’s busy you need to wait for the end of current\n",
    "         conversion before starting a new one.\n",
    "         For simplicity reasons, this example is just waiting till the end of the\n",
    "         conversion, but application may perform other tasks while conversion\n",
    "         operation is ongoing."
   ]
  },
  {
   "cell_type": "code",
   "execution_count": null,
   "metadata": {},
   "outputs": [],
   "source": [
    "uint16_t ADC_value(){\n",
    "    HAL_ADC_PollForConversion(&AdcHandle, 10);\n",
    "\n",
    "    /* Check if the continous conversion of regular channel is finished */\n",
    "    while ((HAL_ADC_GetState(&AdcHandle) & HAL_ADC_STATE_REG_EOC) != HAL_ADC_STATE_REG_EOC);\n",
    "    /*##-6- Get the converted value of regular channel  ########################*/\n",
    "    return HAL_ADC_GetValue(&AdcHandle);\n",
    "}\n",
    "\n",
    "ADC_value()"
   ]
  },
  {
   "cell_type": "markdown",
   "metadata": {},
   "source": [
    "Prepare canvas, which shows ADC data. [Template](https://github.com/QuantStack/xplot/blob/3399c4b96dffb1fec9d9c44de74d3d223bb04789/notebooks/xplot.ipynb)\n",
    "> First install [xplot](https://github.com/QuantStack/xplot) or make sure you have it\n",
    "<details>\n",
    "  <summary>The kernel of notebook should be  <b>C++14</b> (clck here)</summary>\n",
    "    \n",
    "![Image](img/Cpp14.png)  \n",
    "\n",
    "</details>"
   ]
  },
  {
   "cell_type": "code",
   "execution_count": null,
   "metadata": {},
   "outputs": [],
   "source": [
    "#include \"xplot/xfigure.hpp\"\n",
    "#include \"xplot/xmarks.hpp\"\n",
    "#include \"xplot/xaxes.hpp\"\n",
    "\n",
    "const size_t ADC_BUFF_SIZE = 100;\n",
    "xpl::figure fig;\n",
    "xpl::linear_scale sx, sy;\n",
    "xpl::lines line(sx, sy);\n",
    "std::vector<uint16_t> adc_data(ADC_BUFF_SIZE);\n",
    "std::vector<int> x_line(ADC_BUFF_SIZE);\n",
    "int i = 0;\n",
    "for( auto & x : x_line){x = i++;}\n",
    "line.x = x_line;\n",
    "line.y = adc_data;\n",
    "fig.add_mark(line);\n",
    "    \n",
    "xpl::axis hx(sx), hy(sy);\n",
    "hy.orientation = \"vertical\";\n",
    "fig.add_axis(hx);\n",
    "fig.add_axis(hy);\n",
    "fig"
   ]
  },
  {
   "cell_type": "markdown",
   "metadata": {},
   "source": [
    "Plug a potentiometer into the PA0 pin and run the code below. Rotate the shaft and you will get the voltage versus time chart:"
   ]
  },
  {
   "cell_type": "code",
   "execution_count": null,
   "metadata": {},
   "outputs": [],
   "source": [
    "#include <unistd.h>\n",
    "\n",
    "for(size_t i = 0; i < 100; i++){\n",
    "    adc_data[i % ADC_BUFF_SIZE] = ADC_value();\n",
    "    //plot ADC data\n",
    "    line.y = adc_data;\n",
    "    usleep(200000);\n",
    "}"
   ]
  },
  {
   "cell_type": "markdown",
   "metadata": {},
   "source": [
    "<details>\n",
    "  <summary>Result<b>(click to show)</b></summary>\n",
    "\n",
    "![Image](img/adc_cpp.png)\n",
    "</details>"
   ]
  },
  {
   "cell_type": "code",
   "execution_count": null,
   "metadata": {},
   "outputs": [],
   "source": []
  },
  {
   "cell_type": "markdown",
   "metadata": {},
   "source": [
    "### Extra Utility Function"
   ]
  },
  {
   "cell_type": "markdown",
   "metadata": {},
   "source": [
    "The ***ReMCU_getVersion***(see [“remcu.h”](remcu_include/remcu.h) or [API reference](https://remotemcu.github.io/api-v1-0)) function returns a pointer to a char array containing information about the REMCU lib versions"
   ]
  },
  {
   "cell_type": "code",
   "execution_count": null,
   "metadata": {},
   "outputs": [],
   "source": [
    "remcu_getVersion()"
   ]
  },
  {
   "cell_type": "markdown",
   "metadata": {},
   "source": [
    "The ***ReMCU_disconnect***(see [“remcu.h”](remcu_include/remcu.h) or [API reference](https://remotemcu.github.io/api-v1-0)) function disconnects from the debug server. It is finalizing work with REMCU Library."
   ]
  },
  {
   "cell_type": "code",
   "execution_count": null,
   "metadata": {},
   "outputs": [],
   "source": [
    "remcu_disconnect()"
   ]
  }
 ],
 "metadata": {
  "kernelspec": {
   "display_name": "C++14",
   "language": "C++14",
   "name": "xcpp14"
  },
  "language_info": {
   "codemirror_mode": "text/x-c++src",
   "file_extension": ".cpp",
   "mimetype": "text/x-c++src",
   "name": "c++",
   "version": "-std=c++14"
  }
 },
 "nbformat": 4,
 "nbformat_minor": 2
}
