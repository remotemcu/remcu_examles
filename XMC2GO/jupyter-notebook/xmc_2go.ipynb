{
 "cells": [
  {
   "cell_type": "code",
   "execution_count": null,
   "metadata": {},
   "outputs": [],
   "source": [
    ".L libremcu.so"
   ]
  },
  {
   "cell_type": "code",
   "execution_count": null,
   "metadata": {},
   "outputs": [],
   "source": [
    ".I remcu_include/"
   ]
  },
  {
   "cell_type": "code",
   "execution_count": null,
   "metadata": {},
   "outputs": [],
   "source": [
    "#include \"remcu.h\"\n",
    "#include \"xmc_gpio.h\""
   ]
  },
  {
   "cell_type": "code",
   "execution_count": null,
   "metadata": {},
   "outputs": [],
   "source": [
    "remcu_connect2GDB(\"localhost\", 2331, 0)"
   ]
  },
  {
   "cell_type": "code",
   "execution_count": null,
   "metadata": {},
   "outputs": [],
   "source": [
    "remcu_isConnected()"
   ]
  },
  {
   "cell_type": "code",
   "execution_count": null,
   "metadata": {},
   "outputs": [],
   "source": [
    "remcu_resetRemoteUnit(__HALT)"
   ]
  },
  {
   "cell_type": "code",
   "execution_count": null,
   "metadata": {},
   "outputs": [],
   "source": [
    "SystemInit();"
   ]
  },
  {
   "cell_type": "code",
   "execution_count": null,
   "metadata": {},
   "outputs": [],
   "source": [
    "XMC_GPIO_SetMode(P1_1, XMC_GPIO_MODE_OUTPUT_PUSH_PULL);"
   ]
  },
  {
   "cell_type": "code",
   "execution_count": null,
   "metadata": {},
   "outputs": [],
   "source": [
    "XMC_GPIO_ToggleOutput(XMC_GPIO_PORT1, 1);"
   ]
  },
  {
   "cell_type": "code",
   "execution_count": null,
   "metadata": {},
   "outputs": [],
   "source": [
    "#include <xmc_uart.h>"
   ]
  },
  {
   "cell_type": "code",
   "execution_count": null,
   "metadata": {},
   "outputs": [],
   "source": [
    "/* Pins configuration */\n",
    "XMC_GPIO_CONFIG_t uart_tx;\n",
    "XMC_GPIO_CONFIG_t uart_rx;\n",
    "\n",
    "#define UART_RX P2_2\n",
    "#define UART_TX P2_1\n",
    "\n",
    "/* UART configuration */\n",
    "const XMC_UART_CH_CONFIG_t uart_config = \n",
    "{\t\n",
    "  .data_bits = 8U,\n",
    "  .stop_bits = 1U,\n",
    "  .baudrate = 115200\n",
    "};\n",
    "/* Pins mode */\n",
    "//uart_tx.mode = XMC_GPIO_MODE_OUTPUT_PUSH_PULL_ALT7;\n",
    "uart_tx.mode = XMC_GPIO_MODE_OUTPUT_PUSH_PULL_ALT6;\n",
    "uart_rx.mode = XMC_GPIO_MODE_INPUT_TRISTATE;\n",
    "\n",
    "/* Configure UART channel */\n",
    "//XMC_UART_CH_Init(XMC_UART0_CH1, &uart_config);\n",
    "XMC_UART_CH_Init(XMC_UART0_CH0, &uart_config);\n",
    "//XMC_UART_CH_SetInputSource(XMC_UART0_CH1, XMC_UART_CH_INPUT_RXD,USIC0_C1_DX0_P1_3);\n",
    "XMC_UART_CH_SetInputSource(XMC_UART0_CH0, XMC_UART_CH_INPUT_RXD,USIC0_C0_DX4_P2_2);\n",
    "\n",
    "/* Start UART channel */\n",
    "XMC_UART_CH_Start(XMC_UART0_CH0);\n",
    "\n",
    "/* Configure pins */\n",
    "XMC_GPIO_Init(UART_TX, &uart_tx);\n",
    "XMC_GPIO_Init(UART_RX, &uart_rx);"
   ]
  },
  {
   "cell_type": "code",
   "execution_count": null,
   "metadata": {},
   "outputs": [],
   "source": [
    "XMC_UART_CH_Transmit(XMC_UART0_CH0, 'I');\n",
    "XMC_UART_CH_Transmit(XMC_UART0_CH0, 't');\n",
    "XMC_UART_CH_Transmit(XMC_UART0_CH0, ' ');\n",
    "XMC_UART_CH_Transmit(XMC_UART0_CH0, 'i');\n",
    "XMC_UART_CH_Transmit(XMC_UART0_CH0, 's');\n",
    "XMC_UART_CH_Transmit(XMC_UART0_CH0, ' ');\n",
    "XMC_UART_CH_Transmit(XMC_UART0_CH0, 'R');\n",
    "XMC_UART_CH_Transmit(XMC_UART0_CH0, 'E');\n",
    "XMC_UART_CH_Transmit(XMC_UART0_CH0, 'M');\n",
    "XMC_UART_CH_Transmit(XMC_UART0_CH0, 'C');\n",
    "XMC_UART_CH_Transmit(XMC_UART0_CH0, 'U');\n",
    "XMC_UART_CH_Transmit(XMC_UART0_CH0, '\\r');\n",
    "XMC_UART_CH_Transmit(XMC_UART0_CH0, '\\n');"
   ]
  },
  {
   "cell_type": "code",
   "execution_count": null,
   "metadata": {},
   "outputs": [],
   "source": []
  }
 ],
 "metadata": {
  "kernelspec": {
   "display_name": "C++11",
   "language": "C++11",
   "name": "xcpp11"
  },
  "language_info": {
   "codemirror_mode": "text/x-c++src",
   "file_extension": ".cpp",
   "mimetype": "text/x-c++src",
   "name": "c++",
   "version": "-std=c++11"
  }
 },
 "nbformat": 4,
 "nbformat_minor": 2
}
