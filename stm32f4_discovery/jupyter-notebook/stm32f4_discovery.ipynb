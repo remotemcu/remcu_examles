{
 "cells": [
  {
   "cell_type": "markdown",
   "metadata": {},
   "source": [
    "# C++ Cling Examples for STM32F4Discovery\n",
    "\n",
    "![Image](img/head.png)"
   ]
  },
  {
   "cell_type": "markdown",
   "metadata": {},
   "source": [
    "Load [REMCU](https://remotemcu.github.io) shared libray"
   ]
  },
  {
   "cell_type": "code",
   "execution_count": null,
   "metadata": {},
   "outputs": [],
   "source": [
    ".L libremcu"
   ]
  },
  {
   "cell_type": "markdown",
   "metadata": {},
   "source": [
    "Add path with header files"
   ]
  },
  {
   "cell_type": "code",
   "execution_count": null,
   "metadata": {},
   "outputs": [],
   "source": [
    ".I remcu_include/"
   ]
  },
  {
   "cell_type": "markdown",
   "metadata": {},
   "source": [
    "Including necessary header files. The [“remcu.h”](remcu_include/remcu.h) header must be always included before any MCU header files."
   ]
  },
  {
   "cell_type": "code",
   "execution_count": null,
   "metadata": {},
   "outputs": [],
   "source": [
    "#include \"remcu.h\"\n",
    "#include \"stm32f4xx.h\""
   ]
  },
  {
   "cell_type": "markdown",
   "metadata": {},
   "source": [
    "Connection to a debug server. The [**REMCU**](https://remotemcu.github.io/) library is able to work with [OpenOCD](https://github.com/ilg-archived/openocd/releases/tag/v0.10.0-12-20190422) or [GDB server](https://atollic.com/resources/download/).\n",
    "There is using the [remcu_connect2OpenOCD](https://remotemcu.github.io/api-v1-0#remcu_getVersion) function for connecting to the OpenOcd server. The functions have the same set of parameters. The first parameter is an IP address of the debug server. The second one is a port of the debug server. For instance, OpenOCD server print the port in log messages. The third parameter is a connection timeout. Upon a successful connection, the function returns the “true” value, otherwise, it returns “false”.\n",
    "\n",
    "> Detailed description of other REMCU function you see in [“remcu.h”](remcu_include/remcu.h) or [API reference](https://remotemcu.github.io/api-v1-0)\n",
    "\n",
    "Before that, plug stm32 board with debugger to PC\n",
    "\n",
    "run openocd utility in command line:\n",
    "```\n",
    "openocd -f board/stm32f4discovery.cfg\n",
    "```\n",
    "Result:\n",
    "![Image](img/openocd_unix.png)"
   ]
  },
  {
   "cell_type": "code",
   "execution_count": null,
   "metadata": {},
   "outputs": [],
   "source": [
    "const char * debug_server_ip = \"localhost\";\n",
    "const uint16_t default_openocd_port = 6666;\n",
    "const int timeout_sec = 3; // It can not be negative\n",
    "bool connection = false;"
   ]
  },
  {
   "cell_type": "code",
   "execution_count": null,
   "metadata": {},
   "outputs": [],
   "source": [
    "connection = remcu_connect2OpenOCD(debug_server_ip, default_openocd_port, timeout_sec)"
   ]
  },
  {
   "cell_type": "markdown",
   "metadata": {},
   "source": [
    "If you use GDB server (either OpenOCD or ST-Link GDB server or Jlink GDB server  etc.), you uncomment code below and run it:\n",
    "<details>\n",
    "  <summary> Jlink windows. Where the port is written <b> (click here)</b></summary>\n",
    " \n",
    "<img src=\"https://raw.githubusercontent.com/remotemcu/remcu_examples/master/wiki/img/jlink.png\" >\n",
    "<img src=\"https://raw.githubusercontent.com/remotemcu/remcu_examples/master/wiki/img/jlink2.png\" >\n",
    "</details>  \n",
    "<details>\n",
    "  <summary> ST link GDB windows. Where the port is written<b> (click here)</b></summary>\n",
    "\n",
    "<img src=\"https://raw.githubusercontent.com/remotemcu/remcu_examples/master/wiki/img/run-stling-gdb.png\">\n",
    "</details>"
   ]
  },
  {
   "cell_type": "code",
   "execution_count": null,
   "metadata": {},
   "outputs": [],
   "source": [
    "//const uint16_t default_openocd_gdb_port = 3333;\n",
    "//const uint16_t default_jlink_port = 2331;\n",
    "//const uint16_t default_stlink_port = 61234;\n",
    "//const uint16_t custom_port = ...;\n",
    "//connection = remcu_connect2GDB(debug_server_ip, default_openocd_gdb_port /*default_jlink_port*/ /*default_stlink_port*/, timeout_sec)"
   ]
  },
  {
   "cell_type": "code",
   "execution_count": null,
   "metadata": {},
   "outputs": [],
   "source": [
    "if(connection == false){\n",
    "    fprintf(stderr, \"1. Check connection to debug server\\n\");\n",
    "    fprintf(stderr, \"2. Check debug server running\\n\");\n",
    "    fprintf(stderr, \"3. Check the debugged MCU is correct\\n\");\n",
    "    exit(1);\n",
    "}"
   ]
  },
  {
   "cell_type": "markdown",
   "metadata": {},
   "source": [
    "If connection were failed and the function returned false. See [Issue](https://github.com/remotemcu/remcu_examples/issues) and [Troubleshooting Page](https://remotemcu.github.io/troubleshooting-page) \n",
    "    \n",
    "If connection were success... Jupyter Output:\n",
    "![Image](img/success_connection_for_unix.png)"
   ]
  },
  {
   "cell_type": "markdown",
   "metadata": {},
   "source": [
    "Reset the MCU (see [“remcu.h”](remcu_include/remcu.h) or [API reference](https://remotemcu.github.io/api-v1-0)):"
   ]
  },
  {
   "cell_type": "code",
   "execution_count": null,
   "metadata": {},
   "outputs": [],
   "source": [
    "remcu_resetRemoteUnit(__HALT)"
   ]
  },
  {
   "cell_type": "markdown",
   "metadata": {},
   "source": [
    "At this stage the microcontroller clock setting is already configured, this is done through SystemInit() function which is called from startup file (startup_stm32f4xx.s) before to branch to application main. To see the default setting of SystemInit() function, refer to remcu_include/system_stm32f4xx.c file"
   ]
  },
  {
   "cell_type": "code",
   "execution_count": null,
   "metadata": {},
   "outputs": [],
   "source": [
    "SystemInit();"
   ]
  },
  {
   "cell_type": "markdown",
   "metadata": {},
   "source": [
    "### GPIO Example\n",
    "![Image](img/gpio.png)\n",
    ">The code below have been taken from **IO_Toggle** ([main.c](../STM32F4-Discovery_FW_V1.1.0/Project/Peripheral_Examples/IO_Toggle/main.c)) example of [Standard Peripheral Library(SPL) for STM32F4DISCOVERY](https://www.st.com/content/st_com/en/products/embedded-software/mcu-mpu-embedded-software/stm32-embedded-software/stm32-standard-peripheral-library-expansion/stsw-stm32068.html#overview)"
   ]
  },
  {
   "cell_type": "markdown",
   "metadata": {},
   "source": [
    "Clock enable and configure pins:"
   ]
  },
  {
   "cell_type": "code",
   "execution_count": null,
   "metadata": {},
   "outputs": [],
   "source": [
    "/* GPIOD Periph clock enable */\n",
    "RCC_AHB1PeriphClockCmd(RCC_AHB1Periph_GPIOD, ENABLE);\n",
    "GPIO_InitTypeDef  GPIO_InitStructure;\n",
    "\n",
    "/* Configure PD12, PD13, PD14 and PD15 in output pushpull mode */\n",
    "GPIO_InitStructure.GPIO_Pin = GPIO_Pin_12 | GPIO_Pin_13| GPIO_Pin_14| GPIO_Pin_15;\n",
    "GPIO_InitStructure.GPIO_Mode = GPIO_Mode_OUT;\n",
    "GPIO_InitStructure.GPIO_OType = GPIO_OType_PP;\n",
    "GPIO_InitStructure.GPIO_Speed = GPIO_Speed_100MHz;\n",
    "GPIO_InitStructure.GPIO_PuPd = GPIO_PuPd_NOPULL;\n",
    "GPIO_Init(GPIOD, &GPIO_InitStructure);"
   ]
  },
  {
   "cell_type": "markdown",
   "metadata": {},
   "source": [
    "Flash leds on:"
   ]
  },
  {
   "cell_type": "code",
   "execution_count": null,
   "metadata": {},
   "outputs": [],
   "source": [
    "/* PD12 to be toggled */\n",
    "    GPIO_SetBits(GPIOD, GPIO_Pin_12);\n",
    "/* PD13 to be toggled */\n",
    "    GPIO_SetBits(GPIOD, GPIO_Pin_13);\n",
    "/* PD14 to be toggled */\n",
    "    GPIO_SetBits(GPIOD, GPIO_Pin_14);\n",
    "/* PD15 to be toggled */\n",
    "    GPIO_SetBits(GPIOD, GPIO_Pin_15);"
   ]
  },
  {
   "cell_type": "markdown",
   "metadata": {},
   "source": [
    "<details>\n",
    "  <summary><b>Result(click to show)</b></summary>\n",
    "\n",
    "![Image](img/led_on.png)\n",
    "</details>"
   ]
  },
  {
   "cell_type": "markdown",
   "metadata": {},
   "source": [
    "Flash leds off:"
   ]
  },
  {
   "cell_type": "code",
   "execution_count": null,
   "metadata": {},
   "outputs": [],
   "source": [
    "GPIO_ResetBits(GPIOD, GPIO_Pin_12|GPIO_Pin_13|GPIO_Pin_14|GPIO_Pin_15);"
   ]
  },
  {
   "cell_type": "markdown",
   "metadata": {},
   "source": [
    "If it didn’t happen, you can use the utility functions to detect errors..."
   ]
  },
  {
   "cell_type": "markdown",
   "metadata": {},
   "source": [
    "### Utility Functions"
   ]
  },
  {
   "cell_type": "markdown",
   "metadata": {},
   "source": [
    "The ***remcu_getErrorCount***(see [“remcu.h”](remcu_include/remcu.h) or [API reference](https://remotemcu.github.io/api-v1-0)) function returns the number of errors that occurred after connection:"
   ]
  },
  {
   "cell_type": "code",
   "execution_count": null,
   "metadata": {},
   "outputs": [],
   "source": [
    "remcu_getErrorCount()"
   ]
  },
  {
   "cell_type": "markdown",
   "metadata": {},
   "source": [
    "If no error occurred, result ***0***, otherwise see [Issue](https://github.com/remotemcu/remcu_examples/issues) and [Troubleshooting Page](https://remotemcu.github.io/troubleshooting-page)\n",
    "\n",
    "The ***remcu_isConnected***(see [“remcu.h”](remcu_include/remcu.h) or [API reference](https://remotemcu.github.io/api-v1-0)) function indicates status of the current debug server connection:"
   ]
  },
  {
   "cell_type": "code",
   "execution_count": null,
   "metadata": {},
   "outputs": [],
   "source": [
    "remcu_isConnected()"
   ]
  },
  {
   "cell_type": "markdown",
   "metadata": {},
   "source": [
    "Result: connected ***true*** , disconnected ***false***\n",
    "\n",
    "Some of debug adapters can have hardware problems. The ***remcu_debuggerTest*** (see [“remcu.h”](remcu_include/remcu.h) or [API reference](https://remotemcu.github.io/api-v1-0)) function enables to detect the such adapters. The function returns a null pointer if the test is successful:"
   ]
  },
  {
   "cell_type": "code",
   "execution_count": null,
   "metadata": {},
   "outputs": [],
   "source": [
    "remcu_debuggerTest()"
   ]
  },
  {
   "cell_type": "markdown",
   "metadata": {},
   "source": [
    "If no error occurred, result ***nullptr***, otherwise see [Issue](https://github.com/remotemcu/remcu_examples/issues) and [Troubleshooting Page](https://remotemcu.github.io/troubleshooting-page)"
   ]
  },
  {
   "cell_type": "markdown",
   "metadata": {},
   "source": [
    ">If bugs are not discovered and the chip don't responds to driver function call or the result of work was not what you expected, see [Issue](https://github.com/remotemcu/remcu_examples/issues) and [Troubleshooting Page](https://remotemcu.github.io/troubleshooting-page)\n"
   ]
  },
  {
   "cell_type": "markdown",
   "metadata": {},
   "source": [
    "### PWM example\n",
    "![Image](img/pwm_wave.png)\n",
    "This example shows how to configure the TIM peripheral in PWM (Pulse Width Modulation) mode.\n",
    "\n",
    ">The code below have been based on **TIM_PWM_Output** ([main.c](../STM32F4-Discovery_FW_V1.1.0/Project/Peripheral_Examples/TIM_PWM_Output/main.c)) example of [Standard Peripheral Library(SPL) for STM32F4DISCOVERY](https://www.st.com/content/st_com/en/products/embedded-software/mcu-mpu-embedded-software/stm32-embedded-software/stm32-standard-peripheral-library-expansion/stsw-stm32068.html#overview)"
   ]
  },
  {
   "cell_type": "markdown",
   "metadata": {},
   "source": [
    "GPIOC Configuration: TIM4 CH1 (PD12) and TIM4 CH2 (PD13)"
   ]
  },
  {
   "cell_type": "code",
   "execution_count": null,
   "metadata": {},
   "outputs": [],
   "source": [
    "GPIO_InitStructure.GPIO_Pin = GPIO_Pin_12 | GPIO_Pin_13 ;\n",
    "GPIO_InitStructure.GPIO_Mode = GPIO_Mode_AF;\n",
    "GPIO_InitStructure.GPIO_Speed = GPIO_Speed_100MHz;\n",
    "GPIO_InitStructure.GPIO_OType = GPIO_OType_PP;\n",
    "GPIO_InitStructure.GPIO_PuPd = GPIO_PuPd_UP ;\n",
    "GPIO_Init(GPIOD, &GPIO_InitStructure); \n",
    "/* Connect TIM4 pins to AF2 */  \n",
    "GPIO_PinAFConfig(GPIOD, GPIO_PinSource12, GPIO_AF_TIM4);\n",
    "GPIO_PinAFConfig(GPIOD, GPIO_PinSource13, GPIO_AF_TIM4);"
   ]
  },
  {
   "cell_type": "markdown",
   "metadata": {},
   "source": [
    " TIM4 Configuration: generate 2 PWM signals with 2 different duty cycles.\n",
    " \n",
    "    In this example TIM4 input clock (TIM4CLK) is set to 1/0xFFFF * APB1 clock (PCLK1), \n",
    "    since APB1 prescaler is different from 1.   \n",
    "      TIM4CLK = PCLK1 / 0xFFFF\n",
    "      PCLK1 = HCLK / 4 \n",
    "      => TIM4CLK = HCLK / 2 = SystemCoreClock /2\n",
    "    Note: \n",
    "     SystemCoreClock variable holds HCLK frequency and is defined in system_stm32f4xx.c file.\n",
    "     Each time the core clock (HCLK) changes, user had to call SystemCoreClockUpdate()\n",
    "     function to update SystemCoreClock variable value. Otherwise, any configuration\n",
    "     based on this variable will be incorrect.  \n",
    "     \n",
    "    The TIM4 CCR1 register value is equal to 0xFFFF/2, so the TIM4 Channel 1 generates a \n",
    "    PWM signal with a frequency equal to ~1 KHz and a duty cycle equal to 50%:\n",
    "    TIM4 Channel1 duty cycle = (TIM4_CCR1/ TIM4_ARR + 1)* 100 = 50%\n",
    "\n",
    "    The TIM4 CCR2 register value is equal to 0xFFFF/4, so the TIM4 Channel 2 generates a \n",
    "    PWM signal with a frequency equal to ~1 KHz and a duty cycle equal to 25%:\n",
    "    TIM4 Channel2 duty cycle = (TIM4_CCR2/ TIM4_ARR + 1)* 100 = 25%\n",
    "    \n",
    "    The PWM waveform can be displayed using an oscilloscope.\n",
    "    \n",
    "    @par Hardware and Software environment \n",
    "\n",
    "  - This example runs on STM32F4xx Devices Revision A.\n",
    "  \n",
    "  - This example has been tested with STM32F4-Discovery (MB997) RevA and can be\n",
    "    easily tailored to any other development board.    "
   ]
  },
  {
   "cell_type": "code",
   "execution_count": null,
   "metadata": {},
   "outputs": [],
   "source": [
    "// TIM4 Periph clock enable:\n",
    "RCC_APB1PeriphClockCmd(RCC_APB1Periph_TIM4, ENABLE);\n",
    "\n",
    "TIM_TimeBaseInitTypeDef  TIM_TimeBaseStructure;\n",
    "TIM_OCInitTypeDef  TIM_OCInitStructure;\n",
    "\n",
    "/* Time base configuration */\n",
    "TIM_TimeBaseStructure.TIM_Period = 0xFFFF;\n",
    "TIM_TimeBaseStructure.TIM_Prescaler = 0xFFFF;\n",
    "TIM_TimeBaseStructure.TIM_ClockDivision = 0xFFFF;\n",
    "TIM_TimeBaseStructure.TIM_CounterMode = TIM_CounterMode_Up;\n",
    "\n",
    "TIM_TimeBaseInit(TIM4, &TIM_TimeBaseStructure);\n",
    "\n",
    "/* PWM1 Mode configuration: Channel1 */\n",
    "TIM_OCInitStructure.TIM_OCMode = TIM_OCMode_PWM1;\n",
    "TIM_OCInitStructure.TIM_OutputState = TIM_OutputState_Enable;\n",
    "TIM_OCInitStructure.TIM_Pulse = 0xFFFF/2;\n",
    "TIM_OCInitStructure.TIM_OCPolarity = TIM_OCPolarity_High;\n",
    "\n",
    "TIM_OC1Init(TIM4, &TIM_OCInitStructure);\n",
    "\n",
    "/* PWM1 Mode configuration: Channel2 */\n",
    "TIM_OCInitStructure.TIM_OutputState = TIM_OutputState_Enable;\n",
    "TIM_OCInitStructure.TIM_Pulse = 0xFFFF/4;\n",
    "\n",
    "TIM_OC2Init(TIM4, &TIM_OCInitStructure);\n",
    "\n",
    "/* TIM3 enable counter */\n",
    "TIM_Cmd(TIM4, ENABLE);"
   ]
  },
  {
   "cell_type": "markdown",
   "metadata": {},
   "source": [
    "Now you can control the duty cycle and adjust the brightness of the board LEDs.\n",
    "\n",
    "Change the second argument of TIM_SetCompare(1,2) function:"
   ]
  },
  {
   "cell_type": "code",
   "execution_count": null,
   "metadata": {},
   "outputs": [],
   "source": [
    "TIM_SetCompare1(TIM4, 0); //Set Duty Cycle of TIM4 channel 1\n",
    "TIM_SetCompare2(TIM4, 0); //Set Duty Cycle of TIM4 channel 2"
   ]
  },
  {
   "cell_type": "markdown",
   "metadata": {},
   "source": [
    "Create two slider elements to easily change  the brightness of the board LEDs.\n",
    "> First install [**xwidgets**](https://github.com/jupyter-xeus/xwidgets) or make sure you have it\n",
    "<details>\n",
    "  <summary>The kernel of notebook should be  <b>C++14</b> (clck here)</summary>\n",
    "    \n",
    "![Image](img/Cpp14.png)  \n",
    "\n",
    "</details>"
   ]
  },
  {
   "cell_type": "code",
   "execution_count": null,
   "metadata": {},
   "outputs": [],
   "source": [
    "#include \"xwidgets/xslider.hpp\"\n",
    "xw::slider<int> sliderBrightness_Red;\n",
    "xw::slider<int> sliderBrightness_Green;\n",
    "\n",
    "sliderBrightness_Red.min = sliderBrightness_Green.min = 0;\n",
    "sliderBrightness_Red.max = sliderBrightness_Green.max = 0xFFFF;\n",
    "\n",
    "sliderBrightness_Red.display();\n",
    "sliderBrightness_Green.display();\n",
    "\n",
    "XOBSERVE(sliderBrightness_Red, value, [](const auto& Brightness) {\n",
    "    TIM_SetCompare1(TIM4, Brightness.value);\n",
    "});\n",
    "\n",
    "XOBSERVE(sliderBrightness_Green, value, [](const auto& Brightness) {\n",
    "    TIM_SetCompare2(TIM4, Brightness.value);\n",
    "});"
   ]
  },
  {
   "cell_type": "markdown",
   "metadata": {},
   "source": [
    "[video demo](img/cling_slider.mpg)"
   ]
  },
  {
   "cell_type": "markdown",
   "metadata": {},
   "source": [
    "## ADC-DMA Example\n",
    "![Image](img/adc_dma.png)\n",
    "This example describes how to use the ADC3 and DMA to transfer continuously \n",
    "converted data from ADC3 to memory.\n",
    "\n",
    ">The code below have been taken from **ADC3_DMA** ([main.c](../STM32F4-Discovery_FW_V1.1.0/Project/Peripheral_Examples/ADC3_DMA/main.c)) example of [Standard Peripheral Library(SPL) for STM32F4DISCOVERY](https://www.st.com/content/st_com/en/products/embedded-software/mcu-mpu-embedded-software/stm32-embedded-software/stm32-standard-peripheral-library-expansion/stsw-stm32068.html#overview)\n",
    "\n",
    "The ADC3 is configured to convert continuously channel12. \n",
    "The DMA store value of ADC3 DR register to the MCU memory, in circular mode.\n",
    "To read the ADC data, this script stops ADC3 then reads the memory and restarts work of ADC3.\n",
    "\n",
    "In this example, the system clock is 144MHz, APB2 = 72MHz and ADC clock = APB2/2. \n",
    "Since ADC3 clock is 36 MHz and sampling time is set to 3 cycles, the conversion \n",
    "time to 12bit data is 12 cycles so the total conversion time is (12+3)/36= 0.41us(2.4Msps).\n",
    "\n",
    "The embedded canvas below will plot ADC value or voltage vs time chart in the interval 52us:  \n",
    "ADC_BUFF_SIZE x (total conversion time) = 32x4 x (0.41us) = 52,48us  \n",
    "<details>\n",
    "  <summary>Canvas <b>(click to show)</b></summary>\n",
    "\n",
    "![Image](img/adc_chart.png)\n",
    "</details>\n",
    "\n",
    "@par Hardware and Software environment \n",
    "\n",
    "  - This example runs on STM32F4xx Devices Revision A.\n",
    "  \n",
    "  - This example has been tested with STM32F4-Discovery (MB997) RevA and can be\n",
    "    easily tailored to any other development board.\n",
    "    \n",
    "  - STM32F4-Discovery \n",
    "    - Connect the external signal(ranges from 0 to 3.3V) to the ADC3 pin (PC.02) to be converted.\n",
    "    "
   ]
  },
  {
   "cell_type": "markdown",
   "metadata": {},
   "source": [
    "**ptr_remote_RAM** is a starting address of the RAM region. For STM32F4, it is 0x20000000 (from [datasheet](https://www.st.com/resource/en/datasheet/stm32f405rg.pdf))\n",
    "![Image](img/starting_address.png)\n",
    "\n",
    "\n",
    ">Note that Community and Education versions have restrictions on memory region where you store and load data. You can use first 8 KBytes of first memory bank(STM32F407 chip). It is from 0x20000000 to (0x20000000 + 8*1024) address. To clarify that, see the [Download](https://remotemcu.github.io/download) page of your chip or the START_AVAILABLE_MEMORY_REGION and EMD_AVAILABLE_MEMORY_REGION constants in device_defines.h(is in remcu_include folder)"
   ]
  },
  {
   "cell_type": "code",
   "execution_count": null,
   "metadata": {},
   "outputs": [],
   "source": [
    "const uint32_t ptr_remote_RAM = 0x20000000;\n",
    "const size_t ADC_BUFF_SIZE = 32*4;"
   ]
  },
  {
   "cell_type": "markdown",
   "metadata": {},
   "source": [
    "ADC3 configuration \n",
    "- Enable peripheral clocks\n",
    "- DMA2_Stream0 channel2 configuration\n",
    "- Configure ADC Channel12 pin as analog input\n",
    "- Configure ADC3 Channel12"
   ]
  },
  {
   "cell_type": "code",
   "execution_count": null,
   "metadata": {},
   "outputs": [],
   "source": [
    "  ADC_InitTypeDef       ADC_InitStructure;\n",
    "  ADC_CommonInitTypeDef ADC_CommonInitStructure;\n",
    "  DMA_InitTypeDef       DMA_InitStructure;\n",
    "\n",
    "#define ADC3_DR_ADDRESS     ((uint32_t)0x4001224C)\n",
    "\n",
    "  /* Enable ADC3, DMA2 and GPIO clocks ****************************************/\n",
    "  RCC_AHB1PeriphClockCmd(RCC_AHB1Periph_DMA2 | RCC_AHB1Periph_GPIOC, ENABLE);\n",
    "  RCC_APB2PeriphClockCmd(RCC_APB2Periph_ADC3, ENABLE);\n",
    "\n",
    "  /* DMA2 Stream0 channel0 configuration **************************************/\n",
    "  DMA_InitStructure.DMA_Channel = DMA_Channel_2;  \n",
    "  DMA_InitStructure.DMA_PeripheralBaseAddr = (uint32_t)ADC3_DR_ADDRESS;\n",
    "  DMA_InitStructure.DMA_Memory0BaseAddr = ptr_remote_RAM;\n",
    "  DMA_InitStructure.DMA_DIR = DMA_DIR_PeripheralToMemory;\n",
    "  DMA_InitStructure.DMA_BufferSize = ADC_BUFF_SIZE; //32*4\n",
    "  DMA_InitStructure.DMA_PeripheralInc = DMA_PeripheralInc_Disable;\n",
    "  //DMA_InitStructure.DMA_MemoryInc = DMA_MemoryInc_Disable;\n",
    "  DMA_InitStructure.DMA_MemoryInc = DMA_MemoryInc_Enable;\n",
    "  DMA_InitStructure.DMA_PeripheralDataSize = DMA_PeripheralDataSize_HalfWord;\n",
    "  DMA_InitStructure.DMA_MemoryDataSize = DMA_MemoryDataSize_HalfWord;\n",
    "  DMA_InitStructure.DMA_Mode = DMA_Mode_Circular;\n",
    "  DMA_InitStructure.DMA_Priority = DMA_Priority_High;\n",
    "  DMA_InitStructure.DMA_FIFOMode = DMA_FIFOMode_Disable;         \n",
    "  DMA_InitStructure.DMA_FIFOThreshold = DMA_FIFOThreshold_HalfFull;\n",
    "  DMA_InitStructure.DMA_MemoryBurst = DMA_MemoryBurst_Single;\n",
    "  DMA_InitStructure.DMA_PeripheralBurst = DMA_PeripheralBurst_Single;\n",
    "  DMA_Init(DMA2_Stream0, &DMA_InitStructure);\n",
    "  DMA_Cmd(DMA2_Stream0, ENABLE);\n",
    "\n",
    "  /* Configure ADC3 Channel12 pin as analog input ******************************/\n",
    "  GPIO_InitStructure.GPIO_Pin = GPIO_Pin_2;\n",
    "  GPIO_InitStructure.GPIO_Mode = GPIO_Mode_AN;\n",
    "  GPIO_InitStructure.GPIO_PuPd = GPIO_PuPd_NOPULL ;\n",
    "  GPIO_Init(GPIOC, &GPIO_InitStructure);\n",
    "\n",
    "  /* ADC Common Init **********************************************************/\n",
    "  ADC_CommonInitStructure.ADC_Mode = ADC_Mode_Independent;\n",
    "  ADC_CommonInitStructure.ADC_Prescaler = ADC_Prescaler_Div2;\n",
    "  ADC_CommonInitStructure.ADC_DMAAccessMode = ADC_DMAAccessMode_Disabled;\n",
    "  ADC_CommonInitStructure.ADC_TwoSamplingDelay = ADC_TwoSamplingDelay_5Cycles;\n",
    "  ADC_CommonInit(&ADC_CommonInitStructure);\n",
    "\n",
    "  /* ADC3 Init ****************************************************************/\n",
    "  ADC_InitStructure.ADC_Resolution = ADC_Resolution_12b;\n",
    "  ADC_InitStructure.ADC_ScanConvMode = DISABLE;\n",
    "  ADC_InitStructure.ADC_ContinuousConvMode = ENABLE;\n",
    "  ADC_InitStructure.ADC_ExternalTrigConvEdge = ADC_ExternalTrigConvEdge_None;\n",
    "  ADC_InitStructure.ADC_DataAlign = ADC_DataAlign_Right;\n",
    "  ADC_InitStructure.ADC_NbrOfConversion = 1;\n",
    "  ADC_Init(ADC3, &ADC_InitStructure);\n",
    "\n",
    "  /* ADC3 regular channel12 configuration *************************************/\n",
    "  ADC_RegularChannelConfig(ADC3, ADC_Channel_12, 1, ADC_SampleTime_3Cycles);\n",
    "\n",
    " /* Enable DMA request after last transfer (Single-ADC mode) */\n",
    "  ADC_DMARequestAfterLastTransferCmd(ADC3, ENABLE);\n",
    "\n",
    "  /* Enable ADC3 DMA */\n",
    "  ADC_DMACmd(ADC3, ENABLE);\n",
    "\n",
    "  /* Enable ADC3 */\n",
    "  ADC_Cmd(ADC3, ENABLE);"
   ]
  },
  {
   "cell_type": "markdown",
   "metadata": {},
   "source": [
    "Start ADC3 Software Conversion"
   ]
  },
  {
   "cell_type": "code",
   "execution_count": null,
   "metadata": {},
   "outputs": [],
   "source": [
    "ADC_SoftwareStartConv(ADC3);"
   ]
  },
  {
   "cell_type": "markdown",
   "metadata": {},
   "source": [
    "Test ***remcu_loadFrMem***(see [“remcu.h”](remcu_include/remcu.h) or [API reference](https://remotemcu.github.io/api-v1-0)) function:"
   ]
  },
  {
   "cell_type": "code",
   "execution_count": null,
   "metadata": {},
   "outputs": [],
   "source": [
    "uint16_t buff[16];\n",
    "remcu_loadFrMem(ptr_remote_RAM, 32, (uint8_t*)buff)"
   ]
  },
  {
   "cell_type": "code",
   "execution_count": null,
   "metadata": {},
   "outputs": [],
   "source": [
    "buff"
   ]
  },
  {
   "cell_type": "markdown",
   "metadata": {},
   "source": [
    "Prepare canvas, which shows ADC data. [Template](https://github.com/QuantStack/xplot/blob/3399c4b96dffb1fec9d9c44de74d3d223bb04789/notebooks/xplot.ipynb)\n",
    "> First install [xplot](https://github.com/QuantStack/xplot) or make sure you have it  \n",
    " \n",
    "<details>\n",
    "  <summary>The kernel of notebook should be  <b>C++14</b> (clck here)</summary>\n",
    "    \n",
    "![Image](img/Cpp14.png)  \n",
    "\n",
    "</details>"
   ]
  },
  {
   "cell_type": "code",
   "execution_count": null,
   "metadata": {
    "scrolled": false
   },
   "outputs": [],
   "source": [
    "#include \"xplot/xfigure.hpp\"\n",
    "#include \"xplot/xmarks.hpp\"\n",
    "#include \"xplot/xaxes.hpp\"\n",
    "\n",
    "xpl::figure fig;\n",
    "xpl::linear_scale sx, sy;\n",
    "xpl::lines line(sx, sy);\n",
    "std::vector<uint16_t> adc_data(ADC_BUFF_SIZE );\n",
    "std::vector<int> x_line(ADC_BUFF_SIZE);\n",
    "int i = 0;\n",
    "for( auto & x : x_line){x = i++;}\n",
    "line.x = x_line;\n",
    "line.y = adc_data;\n",
    "fig.add_mark(line);\n",
    "    \n",
    "xpl::axis hx(sx), hy(sy);\n",
    "hy.orientation = \"vertical\";\n",
    "fig.add_axis(hx);\n",
    "fig.add_axis(hy);\n",
    "fig"
   ]
  },
  {
   "cell_type": "markdown",
   "metadata": {},
   "source": [
    "Plug a signal generator into the ***PC2*** pin and run the code below. You will get a wave of the signal:\n",
    "\n",
    "The graph above have been gotten for a sinus signal.\n",
    "<details>\n",
    "  <summary><b>Scheme (click to show)</b></summary>\n",
    "\n",
    "![Image](img/adc_scheme.png)\n",
    "</details>\n",
    "\n",
    ">Note that Community and Education versions of the [REMCU](https://remotemcu.github.io/) library have a ***32-bytes limit*** on a memory operation. Therefore, if you need to copy big data, you can do it in parts.  \n",
    "Also the Community and Education versions have restrictions on memory region where you store and load data. You can use first 8 KBytes of first memory bank(STM32F407 chip). It is from 0x20000000 to (0x20000000 + 8*1024) address. To clarify that, see the [Download](https://remotemcu.github.io/download) page of your chip or the START_AVAILABLE_MEMORY_REGION and EMD_AVAILABLE_MEMORY_REGION constants in device_defines.h(is in remcu_include folder)"
   ]
  },
  {
   "cell_type": "code",
   "execution_count": null,
   "metadata": {},
   "outputs": [],
   "source": [
    "    uint16_t osc_buffer[ADC_BUFF_SIZE] = {0};\n"
   ]
  },
  {
   "cell_type": "code",
   "execution_count": null,
   "metadata": {
    "scrolled": true
   },
   "outputs": [],
   "source": [
    "#include <unistd.h>\n",
    "\n",
    "for(int j=0; j< 30; j++){\n",
    "    //Stop ADC3 module. ADC and DMA don't write to memory\n",
    "    ADC_Cmd(ADC3, DISABLE);\n",
    "    //Copy 32 blocks from MCU memory\n",
    "    for(size_t i = 0; i < ADC_BUFF_SIZE*2; i += 32){ \n",
    "        remcu_loadFrMem(ptr_remote_RAM + i, 32, (uint8_t*)osc_buffer + i);\n",
    "    }\n",
    "    //The ADC’s DMA channel saves its data in a circular fashion \n",
    "    //and keeps on overwriting old data until is paused. \n",
    "    //left shift of ADC data for a picture like oscilloscope screen\n",
    "    size_t shift = ADC_BUFF_SIZE - DMA_GetCurrDataCounter(DMA2_Stream0);\n",
    "    for(size_t i = 0; i < ADC_BUFF_SIZE; i++){ \n",
    "        int shift_pos = (i + shift) % ADC_BUFF_SIZE;\n",
    "        adc_data[i] = osc_buffer[shift_pos];\n",
    "    }\n",
    "    \n",
    "    //plot ADC data\n",
    "    line.y = adc_data;\n",
    "    //Turn on ADC3\n",
    "    ADC_Cmd(ADC3, ENABLE);\n",
    "    //Continue ADC convertion and the DMA writes to memory region (ptr_remote_RAM)\n",
    "    ADC_SoftwareStartConv(ADC3);\n",
    "    usleep(200000);\n",
    "}"
   ]
  },
  {
   "cell_type": "markdown",
   "metadata": {},
   "source": [
    "<details>\n",
    "  <summary>Result <b>(click to show)</b></summary>\n",
    "\n",
    "![Image](img/adc_chart1.png)\n",
    "</details>"
   ]
  },
  {
   "cell_type": "markdown",
   "metadata": {},
   "source": [
    "### DAC - DMA Sine Wave Example\n",
    "![Image](img/dac_dma.png)\n",
    "\n",
    "This example provides a short description of how to use the DAC peripheral to \n",
    "generate Sine wave signals using DMA controller.\n",
    "\n",
    ">The code below have been taken from **DAC_SignalsGeneration** ([main.c](../STM32F4-Discovery_FW_V1.1.0/Project/Peripheral_Examples/DAC_SignalsGeneration/main.c)) example of [Standard Peripheral Library(SPL) for STM32F4DISCOVERY](https://www.st.com/content/st_com/en/products/embedded-software/mcu-mpu-embedded-software/stm32-embedded-software/stm32-standard-peripheral-library-expansion/stsw-stm32068.html#overview)\n",
    "\n",
    "@par Hardware and Software environment\n",
    "\n",
    "  - This example runs on STM32F4xx Devices Revision A.\n",
    "  \n",
    "  - This example has been tested with STM32F4-Discovery (MB997) RevA and can be\n",
    "    easily tailored to any other development board.\n",
    "\n",
    "  - STM32F4-Discovery \t\n",
    "     - Use USER push-button connected to PA.00.\n",
    "     - Connect PA4 (DAC Channel1) and PA5 (DAC Channel2) pins to an oscilloscope."
   ]
  },
  {
   "cell_type": "code",
   "execution_count": null,
   "metadata": {},
   "outputs": [],
   "source": [
    "uint8_t Escalator8bit[6] = {0x0, 0x33, 0x66, 0x99, 0xCC, 0xFF};\n",
    "uint16_t Sine12bit[32] = {\n",
    "                      2047, 2447, 2831, 3185, 3498, 3750, 3939, 4056, 4095, 4056,\n",
    "                      3939, 3750, 3495, 3185, 2831, 2447, 2047, 1647, 1263, 909, \n",
    "                      599, 344, 155, 38, 0, 38, 155, 344, 599, 909, 1263, 1647};\n",
    "\n",
    "const uint32_t ptr_remote_RAM_SinWave = ptr_remote_RAM + sizeof(Escalator8bit);"
   ]
  },
  {
   "cell_type": "markdown",
   "metadata": {},
   "source": [
    "Upload the Escalator wave data to MCU memory using ***remcu_store2mem*** function(see [“remcu.h”](remcu_include/remcu.h) or [API reference](https://remotemcu.github.io/api-v1-0)):\n",
    "![Image](img/escalator_mem.png)"
   ]
  },
  {
   "cell_type": "code",
   "execution_count": null,
   "metadata": {},
   "outputs": [],
   "source": [
    "remcu_store2mem(ptr_remote_RAM, Escalator8bit, sizeof(Escalator8bit))"
   ]
  },
  {
   "cell_type": "markdown",
   "metadata": {},
   "source": [
    "Upload the Sine wave data to MCU memory using ***remcu_store2mem*** function(see [“remcu.h”](remcu_include/remcu.h) or [API reference](https://remotemcu.github.io/api-v1-0)):\n",
    "![Image](img/sine_mem.png)\n",
    ">Note that Community and Education version of the  [**REMCU**](https://remotemcu.github.io/) library has a ***32-bytes limit*** on the memory operation. Therefore, if you need to copy big data, you can do it in parts.  \n",
    "Also the Community and Education versions have restrictions on memory region where you store and load data. You can use first 8 KBytes of first memory bank(STM32F407 chip). It is from 0x20000000 to (0x20000000 + 8*1024) address. To clarify that, see the [Download](https://remotemcu.github.io/download) page of your chip or the START_AVAILABLE_MEMORY_REGION and EMD_AVAILABLE_MEMORY_REGION constants in device_defines.h(is in remcu_include folder)"
   ]
  },
  {
   "cell_type": "code",
   "execution_count": null,
   "metadata": {},
   "outputs": [],
   "source": [
    "remcu_store2mem(ptr_remote_RAM_SinWave, (uint8_t*)Sine12bit, 32);          //copy first half of data\n",
    "remcu_store2mem(ptr_remote_RAM_SinWave + 32, (uint8_t*)Sine12bit + 32, 32) //copy second half of data"
   ]
  },
  {
   "cell_type": "markdown",
   "metadata": {},
   "source": [
    "TIM6 Configuration:"
   ]
  },
  {
   "cell_type": "code",
   "execution_count": null,
   "metadata": {},
   "outputs": [],
   "source": [
    "/* DMA1 clock and GPIOA clock enable (to be used with DAC) */\n",
    "  RCC_AHB1PeriphClockCmd(RCC_AHB1Periph_DMA1 | RCC_AHB1Periph_GPIOA, ENABLE);\n",
    "\n",
    "  /* DAC Periph clock enable */\n",
    "  RCC_APB1PeriphClockCmd(RCC_APB1Periph_DAC, ENABLE);\n",
    "\n",
    "  /* DAC channel 1 & 2 (DAC_OUT1 = PA.4)(DAC_OUT2 = PA.5) configuration */\n",
    "  GPIO_InitStructure.GPIO_Pin = GPIO_Pin_4 | GPIO_Pin_5;\n",
    "  GPIO_InitStructure.GPIO_Mode = GPIO_Mode_AN;\n",
    "  GPIO_InitStructure.GPIO_PuPd = GPIO_PuPd_NOPULL;\n",
    "  GPIO_Init(GPIOA, &GPIO_InitStructure);\n",
    "\n",
    "  /* TIM6 Periph clock enable */\n",
    "  RCC_APB1PeriphClockCmd(RCC_APB1Periph_TIM6, ENABLE);\n",
    "\n",
    "  /* Time base configuration */\n",
    "  TIM_TimeBaseStructInit(&TIM_TimeBaseStructure);\n",
    "  TIM_TimeBaseStructure.TIM_Period = 0xFF;\n",
    "  TIM_TimeBaseStructure.TIM_Prescaler = 0;\n",
    "  TIM_TimeBaseStructure.TIM_ClockDivision = 0;\n",
    "  TIM_TimeBaseStructure.TIM_CounterMode = TIM_CounterMode_Up; \n",
    "  TIM_TimeBaseInit(TIM6, &TIM_TimeBaseStructure);\n",
    "\n",
    "  /* TIM6 TRGO selection */\n",
    "  TIM_SelectOutputTrigger(TIM6, TIM_TRGOSource_Update);\n",
    "  \n",
    "  /* TIM6 enable counter */\n",
    "  TIM_Cmd(TIM6, ENABLE);"
   ]
  },
  {
   "cell_type": "markdown",
   "metadata": {},
   "source": [
    "DAC and DMA configuration:"
   ]
  },
  {
   "cell_type": "code",
   "execution_count": null,
   "metadata": {},
   "outputs": [],
   "source": [
    "  #define DAC_DHR12R2_ADDRESS    0x40007414\n",
    "  #define DAC_DHR8R1_ADDRESS     0x40007410\n",
    "\n",
    "  DAC_InitTypeDef  DAC_InitStructure;\n",
    "\n",
    "  DAC_DeInit();\n",
    "\n",
    "  /*-------------------- DAC Channel1 Escalator Configuration --------------------*/\n",
    "  DAC_InitStructure.DAC_Trigger = DAC_Trigger_T6_TRGO;\n",
    "  DAC_InitStructure.DAC_WaveGeneration = DAC_WaveGeneration_None;\n",
    "  DAC_InitStructure.DAC_OutputBuffer = DAC_OutputBuffer_Enable;\n",
    "  DAC_Init(DAC_Channel_1, &DAC_InitStructure);\n",
    "\n",
    "  /* DMA1_Stream6 channel7 configuration **************************************/\n",
    "  DMA_DeInit(DMA1_Stream6);\n",
    "  DMA_InitStructure.DMA_Channel = DMA_Channel_7;  \n",
    "  DMA_InitStructure.DMA_PeripheralBaseAddr = DAC_DHR8R1_ADDRESS;\n",
    "  DMA_InitStructure.DMA_Memory0BaseAddr = ptr_remote_RAM;\n",
    "  DMA_InitStructure.DMA_BufferSize = 6; //sizeof(Escalator8bit)\n",
    "  DMA_InitStructure.DMA_PeripheralDataSize = DMA_PeripheralDataSize_Byte;\n",
    "  DMA_InitStructure.DMA_MemoryDataSize = DMA_MemoryDataSize_Byte;\n",
    "  DMA_InitStructure.DMA_DIR = DMA_DIR_MemoryToPeripheral;\n",
    "  DMA_InitStructure.DMA_PeripheralInc = DMA_PeripheralInc_Disable;\n",
    "  DMA_InitStructure.DMA_MemoryInc = DMA_MemoryInc_Enable;\n",
    "  DMA_InitStructure.DMA_Mode = DMA_Mode_Circular;\n",
    "  DMA_InitStructure.DMA_Priority = DMA_Priority_High;\n",
    "  DMA_InitStructure.DMA_FIFOMode = DMA_FIFOMode_Disable;         \n",
    "  DMA_InitStructure.DMA_FIFOThreshold = DMA_FIFOThreshold_HalfFull;\n",
    "  DMA_InitStructure.DMA_MemoryBurst = DMA_MemoryBurst_Single;\n",
    "  DMA_InitStructure.DMA_PeripheralBurst = DMA_PeripheralBurst_Single;\n",
    "  DMA_Init(DMA1_Stream6, &DMA_InitStructure);    \n",
    "\n",
    "  /* Enable DMA1_Stream6 */\n",
    "  DMA_Cmd(DMA1_Stream6, ENABLE);\n",
    "  \n",
    "  /* Enable DAC Channel1 */\n",
    "  DAC_Cmd(DAC_Channel_1, ENABLE);\n",
    "\n",
    "  /* Enable DMA for DAC Channel1 */\n",
    "  DAC_DMACmd(DAC_Channel_1, ENABLE);\n",
    "\n",
    "//-------------------- DAC  Channel2 SineWave Configuration --------------------------------//\n",
    "  /* DAC channel2 Configuration */\n",
    "  DAC_InitStructure.DAC_Trigger = DAC_Trigger_T6_TRGO;\n",
    "  DAC_InitStructure.DAC_WaveGeneration = DAC_WaveGeneration_None;\n",
    "  DAC_InitStructure.DAC_OutputBuffer = DAC_OutputBuffer_Enable;\n",
    "  DAC_Init(DAC_Channel_2, &DAC_InitStructure);\n",
    "\n",
    "  /* DMA1_Stream5 channel7 configuration **************************************/\n",
    "  DMA_DeInit(DMA1_Stream5);\n",
    "  DMA_InitStructure.DMA_Channel = DMA_Channel_7;  \n",
    "  DMA_InitStructure.DMA_PeripheralBaseAddr = (uint32_t)DAC_DHR12R2_ADDRESS;\n",
    "  DMA_InitStructure.DMA_Memory0BaseAddr = (uint32_t)ptr_remote_RAM_SinWave;\n",
    "  DMA_InitStructure.DMA_DIR = DMA_DIR_MemoryToPeripheral;\n",
    "  DMA_InitStructure.DMA_BufferSize = 32; //sizeof(Sine12bit)\n",
    "  DMA_InitStructure.DMA_PeripheralInc = DMA_PeripheralInc_Disable;\n",
    "  DMA_InitStructure.DMA_MemoryInc = DMA_MemoryInc_Enable;\n",
    "  DMA_InitStructure.DMA_PeripheralDataSize = DMA_PeripheralDataSize_HalfWord;\n",
    "  DMA_InitStructure.DMA_MemoryDataSize = DMA_MemoryDataSize_HalfWord;\n",
    "  DMA_InitStructure.DMA_Mode = DMA_Mode_Circular;\n",
    "  DMA_InitStructure.DMA_Priority = DMA_Priority_High;\n",
    "  DMA_InitStructure.DMA_FIFOMode = DMA_FIFOMode_Disable;\n",
    "  DMA_InitStructure.DMA_FIFOThreshold = DMA_FIFOThreshold_HalfFull;\n",
    "  DMA_InitStructure.DMA_MemoryBurst = DMA_MemoryBurst_Single;\n",
    "  DMA_InitStructure.DMA_PeripheralBurst = DMA_PeripheralBurst_Single;\n",
    "  DMA_Init(DMA1_Stream5, &DMA_InitStructure);\n",
    "\n",
    "  /* Enable DMA1_Stream5 */\n",
    "  DMA_Cmd(DMA1_Stream5, ENABLE);\n",
    "\n",
    "  /* Enable DAC Channel2 */\n",
    "  DAC_Cmd(DAC_Channel_2, ENABLE);\n",
    "\n",
    "  /* Enable DMA for DAC Channel2 */\n",
    "  DAC_DMACmd(DAC_Channel_2, ENABLE);"
   ]
  },
  {
   "cell_type": "markdown",
   "metadata": {},
   "source": [
    "<details>\n",
    "  <summary><b>Result (click to show)</b></summary>\n",
    "\n",
    "![Image](img/dac1.png)\n",
    "</details>\n",
    "\n",
    "You can remotely change the MCU memory using the **remcu_store2mem** function and the DAC will play the modified content.\n",
    ">Note that Community and Education version of the  [**REMCU**](https://remotemcu.github.io/) library has six bytes of minimum size limit on the memory operation. Therefore, you can not copy less six bytes at a time."
   ]
  },
  {
   "cell_type": "code",
   "execution_count": null,
   "metadata": {},
   "outputs": [],
   "source": [
    "Sine12bit[9] = 0;\n",
    "remcu_store2mem(ptr_remote_RAM_SinWave, (uint8_t*)Sine12bit, 32)"
   ]
  },
  {
   "cell_type": "markdown",
   "metadata": {},
   "source": [
    "<details>\n",
    "  <summary><b>Result (click to show)</b></summary>\n",
    "\n",
    "![Image](img/dac2.png)\n",
    "</details>"
   ]
  },
  {
   "cell_type": "markdown",
   "metadata": {},
   "source": [
    "### Extra Utility Function"
   ]
  },
  {
   "cell_type": "markdown",
   "metadata": {},
   "source": [
    "The ***ReMCU_getVersion***(see [“remcu.h”](remcu_include/remcu.h) or [API reference](https://remotemcu.github.io/api-v1-0)) function returns a pointer to a char array containing information about the REMCU lib versions"
   ]
  },
  {
   "cell_type": "code",
   "execution_count": null,
   "metadata": {},
   "outputs": [],
   "source": [
    "remcu_getVersion()"
   ]
  },
  {
   "cell_type": "markdown",
   "metadata": {},
   "source": [
    "The ***ReMCU_disconnect***(see [“remcu.h”](remcu_include/remcu.h) or [API reference](https://remotemcu.github.io/api-v1-0)) function disconnects from the debug server. It is finalizing work with REMCU Library."
   ]
  },
  {
   "cell_type": "code",
   "execution_count": null,
   "metadata": {},
   "outputs": [],
   "source": [
    "remcu_disconnect()"
   ]
  }
 ],
 "metadata": {
  "kernelspec": {
   "display_name": "C++14",
   "language": "C++14",
   "name": "xcpp14"
  },
  "language_info": {
   "codemirror_mode": "text/x-c++src",
   "file_extension": ".cpp",
   "mimetype": "text/x-c++src",
   "name": "c++",
   "version": "-std=c++14"
  }
 },
 "nbformat": 4,
 "nbformat_minor": 2
}
